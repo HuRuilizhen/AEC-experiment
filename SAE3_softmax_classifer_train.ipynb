{
 "cells": [
  {
   "cell_type": "code",
   "execution_count": 1,
   "metadata": {},
   "outputs": [],
   "source": [
    "from keras.datasets import mnist\n",
    "from keras import models\n",
    "from keras import layers\n",
    "from keras import utils\n",
    "import numpy as np"
   ]
  },
  {
   "cell_type": "code",
   "execution_count": 2,
   "metadata": {},
   "outputs": [
    {
     "data": {
      "text/plain": [
       "((60000, 28, 28), (10000, 28, 28), (60000,), (10000,))"
      ]
     },
     "execution_count": 2,
     "metadata": {},
     "output_type": "execute_result"
    }
   ],
   "source": [
    "(train_images, train_labels), (test_images, test_labels) = mnist.load_data()\n",
    "train_images.shape, test_images.shape, train_labels.shape, test_labels.shape"
   ]
  },
  {
   "cell_type": "code",
   "execution_count": 3,
   "metadata": {},
   "outputs": [
    {
     "data": {
      "text/plain": [
       "((60000, 28, 28), (10000, 28, 28), (60000, 10), (10000, 10))"
      ]
     },
     "execution_count": 3,
     "metadata": {},
     "output_type": "execute_result"
    }
   ],
   "source": [
    "train_images = train_images.astype('float32') / 255\n",
    "test_images = test_images.astype('float32') / 255\n",
    "\n",
    "train_labels = utils.to_categorical(train_labels)\n",
    "test_labels = utils.to_categorical(test_labels)\n",
    "train_images.shape, test_images.shape, train_labels.shape, test_labels.shape"
   ]
  },
  {
   "cell_type": "code",
   "execution_count": 4,
   "metadata": {},
   "outputs": [
    {
     "data": {
      "text/plain": [
       "((60000, 784), (10000, 784), (60000, 10), (10000, 10))"
      ]
     },
     "execution_count": 4,
     "metadata": {},
     "output_type": "execute_result"
    }
   ],
   "source": [
    "train_images = train_images.reshape((len(train_images), np.prod(train_images.shape[1:])))\n",
    "test_images = test_images.reshape((len(test_images), np.prod(test_images.shape[1:])))\n",
    "train_images.shape, test_images.shape, train_labels.shape, test_labels.shape"
   ]
  },
  {
   "cell_type": "code",
   "execution_count": 7,
   "metadata": {},
   "outputs": [],
   "source": [
    "from SAE_model import SAE3"
   ]
  },
  {
   "cell_type": "code",
   "execution_count": 8,
   "metadata": {},
   "outputs": [
    {
     "name": "stderr",
     "output_type": "stream",
     "text": [
      "d:\\Python\\Python310\\lib\\site-packages\\keras\\src\\layers\\core\\input_layer.py:25: UserWarning: Argument `input_shape` is deprecated. Use `shape` instead.\n",
      "  warnings.warn(\n"
     ]
    }
   ],
   "source": [
    "SAE3_model = SAE3(input_dim=784, latent_dim=[150, 50, 65])\n",
    "SAE3_model.load_weights('models/SAE3.h5')"
   ]
  },
  {
   "cell_type": "code",
   "execution_count": 9,
   "metadata": {},
   "outputs": [
    {
     "data": {
      "text/plain": [
       "(TensorShape([60000, 65]), TensorShape([10000, 65]), (60000, 10), (10000, 10))"
      ]
     },
     "execution_count": 9,
     "metadata": {},
     "output_type": "execute_result"
    }
   ],
   "source": [
    "train_images = SAE3_model.encode(train_images)\n",
    "test_images = SAE3_model.encode(test_images)\n",
    "train_images.shape, test_images.shape, train_labels.shape, test_labels.shape"
   ]
  },
  {
   "cell_type": "code",
   "execution_count": 10,
   "metadata": {},
   "outputs": [],
   "source": [
    "from classifer_model import Softmax_Classifer\n",
    "from keras import optimizers\n",
    "from keras import losses\n",
    "from keras import metrics"
   ]
  },
  {
   "cell_type": "code",
   "execution_count": 11,
   "metadata": {},
   "outputs": [],
   "source": [
    "Softmax_Classifer_model = Softmax_Classifer(input_dim=65, output_dim=10)\n",
    "Softmax_Classifer_model.compile(\n",
    "    optimizer=optimizers.Adam(),\n",
    "    loss=losses.CategoricalCrossentropy(),\n",
    "    metrics=[metrics.CategoricalAccuracy()]\n",
    ")"
   ]
  },
  {
   "cell_type": "code",
   "execution_count": 12,
   "metadata": {},
   "outputs": [
    {
     "name": "stdout",
     "output_type": "stream",
     "text": [
      "Epoch 1/150\n",
      "\u001b[1m469/469\u001b[0m \u001b[32m━━━━━━━━━━━━━━━━━━━━\u001b[0m\u001b[37m\u001b[0m \u001b[1m1s\u001b[0m 990us/step - categorical_accuracy: 0.3648 - loss: 1.9480 - val_categorical_accuracy: 0.7460 - val_loss: 0.9534\n",
      "Epoch 2/150\n",
      "\u001b[1m469/469\u001b[0m \u001b[32m━━━━━━━━━━━━━━━━━━━━\u001b[0m\u001b[37m\u001b[0m \u001b[1m0s\u001b[0m 755us/step - categorical_accuracy: 0.7537 - loss: 0.8941 - val_categorical_accuracy: 0.7837 - val_loss: 0.7302\n",
      "Epoch 3/150\n",
      "\u001b[1m469/469\u001b[0m \u001b[32m━━━━━━━━━━━━━━━━━━━━\u001b[0m\u001b[37m\u001b[0m \u001b[1m0s\u001b[0m 771us/step - categorical_accuracy: 0.7810 - loss: 0.7255 - val_categorical_accuracy: 0.7972 - val_loss: 0.6501\n",
      "Epoch 4/150\n",
      "\u001b[1m469/469\u001b[0m \u001b[32m━━━━━━━━━━━━━━━━━━━━\u001b[0m\u001b[37m\u001b[0m \u001b[1m0s\u001b[0m 721us/step - categorical_accuracy: 0.7917 - loss: 0.6551 - val_categorical_accuracy: 0.8049 - val_loss: 0.6078\n",
      "Epoch 5/150\n",
      "\u001b[1m469/469\u001b[0m \u001b[32m━━━━━━━━━━━━━━━━━━━━\u001b[0m\u001b[37m\u001b[0m \u001b[1m0s\u001b[0m 735us/step - categorical_accuracy: 0.8016 - loss: 0.6160 - val_categorical_accuracy: 0.8116 - val_loss: 0.5825\n",
      "Epoch 6/150\n",
      "\u001b[1m469/469\u001b[0m \u001b[32m━━━━━━━━━━━━━━━━━━━━\u001b[0m\u001b[37m\u001b[0m \u001b[1m0s\u001b[0m 738us/step - categorical_accuracy: 0.8061 - loss: 0.5939 - val_categorical_accuracy: 0.8163 - val_loss: 0.5648\n",
      "Epoch 7/150\n",
      "\u001b[1m469/469\u001b[0m \u001b[32m━━━━━━━━━━━━━━━━━━━━\u001b[0m\u001b[37m\u001b[0m \u001b[1m0s\u001b[0m 736us/step - categorical_accuracy: 0.8101 - loss: 0.5818 - val_categorical_accuracy: 0.8171 - val_loss: 0.5545\n",
      "Epoch 8/150\n",
      "\u001b[1m469/469\u001b[0m \u001b[32m━━━━━━━━━━━━━━━━━━━━\u001b[0m\u001b[37m\u001b[0m \u001b[1m0s\u001b[0m 726us/step - categorical_accuracy: 0.8105 - loss: 0.5696 - val_categorical_accuracy: 0.8198 - val_loss: 0.5445\n",
      "Epoch 9/150\n",
      "\u001b[1m469/469\u001b[0m \u001b[32m━━━━━━━━━━━━━━━━━━━━\u001b[0m\u001b[37m\u001b[0m \u001b[1m0s\u001b[0m 733us/step - categorical_accuracy: 0.8176 - loss: 0.5534 - val_categorical_accuracy: 0.8221 - val_loss: 0.5376\n",
      "Epoch 10/150\n",
      "\u001b[1m469/469\u001b[0m \u001b[32m━━━━━━━━━━━━━━━━━━━━\u001b[0m\u001b[37m\u001b[0m \u001b[1m0s\u001b[0m 777us/step - categorical_accuracy: 0.8191 - loss: 0.5486 - val_categorical_accuracy: 0.8231 - val_loss: 0.5317\n",
      "Epoch 11/150\n",
      "\u001b[1m469/469\u001b[0m \u001b[32m━━━━━━━━━━━━━━━━━━━━\u001b[0m\u001b[37m\u001b[0m \u001b[1m0s\u001b[0m 718us/step - categorical_accuracy: 0.8182 - loss: 0.5431 - val_categorical_accuracy: 0.8252 - val_loss: 0.5261\n",
      "Epoch 12/150\n",
      "\u001b[1m469/469\u001b[0m \u001b[32m━━━━━━━━━━━━━━━━━━━━\u001b[0m\u001b[37m\u001b[0m \u001b[1m0s\u001b[0m 737us/step - categorical_accuracy: 0.8210 - loss: 0.5381 - val_categorical_accuracy: 0.8255 - val_loss: 0.5227\n",
      "Epoch 13/150\n",
      "\u001b[1m469/469\u001b[0m \u001b[32m━━━━━━━━━━━━━━━━━━━━\u001b[0m\u001b[37m\u001b[0m \u001b[1m0s\u001b[0m 734us/step - categorical_accuracy: 0.8216 - loss: 0.5346 - val_categorical_accuracy: 0.8263 - val_loss: 0.5186\n",
      "Epoch 14/150\n",
      "\u001b[1m469/469\u001b[0m \u001b[32m━━━━━━━━━━━━━━━━━━━━\u001b[0m\u001b[37m\u001b[0m \u001b[1m0s\u001b[0m 746us/step - categorical_accuracy: 0.8240 - loss: 0.5312 - val_categorical_accuracy: 0.8258 - val_loss: 0.5172\n",
      "Epoch 15/150\n",
      "\u001b[1m469/469\u001b[0m \u001b[32m━━━━━━━━━━━━━━━━━━━━\u001b[0m\u001b[37m\u001b[0m \u001b[1m0s\u001b[0m 738us/step - categorical_accuracy: 0.8227 - loss: 0.5311 - val_categorical_accuracy: 0.8267 - val_loss: 0.5131\n",
      "Epoch 16/150\n",
      "\u001b[1m469/469\u001b[0m \u001b[32m━━━━━━━━━━━━━━━━━━━━\u001b[0m\u001b[37m\u001b[0m \u001b[1m0s\u001b[0m 744us/step - categorical_accuracy: 0.8214 - loss: 0.5301 - val_categorical_accuracy: 0.8289 - val_loss: 0.5106\n",
      "Epoch 17/150\n",
      "\u001b[1m469/469\u001b[0m \u001b[32m━━━━━━━━━━━━━━━━━━━━\u001b[0m\u001b[37m\u001b[0m \u001b[1m0s\u001b[0m 760us/step - categorical_accuracy: 0.8276 - loss: 0.5144 - val_categorical_accuracy: 0.8304 - val_loss: 0.5091\n",
      "Epoch 18/150\n",
      "\u001b[1m469/469\u001b[0m \u001b[32m━━━━━━━━━━━━━━━━━━━━\u001b[0m\u001b[37m\u001b[0m \u001b[1m0s\u001b[0m 718us/step - categorical_accuracy: 0.8274 - loss: 0.5204 - val_categorical_accuracy: 0.8292 - val_loss: 0.5080\n",
      "Epoch 19/150\n",
      "\u001b[1m469/469\u001b[0m \u001b[32m━━━━━━━━━━━━━━━━━━━━\u001b[0m\u001b[37m\u001b[0m \u001b[1m0s\u001b[0m 756us/step - categorical_accuracy: 0.8294 - loss: 0.5072 - val_categorical_accuracy: 0.8313 - val_loss: 0.5060\n",
      "Epoch 20/150\n",
      "\u001b[1m469/469\u001b[0m \u001b[32m━━━━━━━━━━━━━━━━━━━━\u001b[0m\u001b[37m\u001b[0m \u001b[1m0s\u001b[0m 719us/step - categorical_accuracy: 0.8295 - loss: 0.5073 - val_categorical_accuracy: 0.8305 - val_loss: 0.5053\n",
      "Epoch 21/150\n",
      "\u001b[1m469/469\u001b[0m \u001b[32m━━━━━━━━━━━━━━━━━━━━\u001b[0m\u001b[37m\u001b[0m \u001b[1m0s\u001b[0m 712us/step - categorical_accuracy: 0.8300 - loss: 0.5111 - val_categorical_accuracy: 0.8310 - val_loss: 0.5039\n",
      "Epoch 22/150\n",
      "\u001b[1m469/469\u001b[0m \u001b[32m━━━━━━━━━━━━━━━━━━━━\u001b[0m\u001b[37m\u001b[0m \u001b[1m0s\u001b[0m 710us/step - categorical_accuracy: 0.8283 - loss: 0.5123 - val_categorical_accuracy: 0.8307 - val_loss: 0.5030\n",
      "Epoch 23/150\n",
      "\u001b[1m469/469\u001b[0m \u001b[32m━━━━━━━━━━━━━━━━━━━━\u001b[0m\u001b[37m\u001b[0m \u001b[1m0s\u001b[0m 715us/step - categorical_accuracy: 0.8289 - loss: 0.5100 - val_categorical_accuracy: 0.8330 - val_loss: 0.5027\n",
      "Epoch 24/150\n",
      "\u001b[1m469/469\u001b[0m \u001b[32m━━━━━━━━━━━━━━━━━━━━\u001b[0m\u001b[37m\u001b[0m \u001b[1m0s\u001b[0m 721us/step - categorical_accuracy: 0.8320 - loss: 0.5011 - val_categorical_accuracy: 0.8319 - val_loss: 0.5021\n",
      "Epoch 25/150\n",
      "\u001b[1m469/469\u001b[0m \u001b[32m━━━━━━━━━━━━━━━━━━━━\u001b[0m\u001b[37m\u001b[0m \u001b[1m0s\u001b[0m 749us/step - categorical_accuracy: 0.8277 - loss: 0.5087 - val_categorical_accuracy: 0.8323 - val_loss: 0.5000\n",
      "Epoch 26/150\n",
      "\u001b[1m469/469\u001b[0m \u001b[32m━━━━━━━━━━━━━━━━━━━━\u001b[0m\u001b[37m\u001b[0m \u001b[1m0s\u001b[0m 705us/step - categorical_accuracy: 0.8276 - loss: 0.5137 - val_categorical_accuracy: 0.8313 - val_loss: 0.4996\n",
      "Epoch 27/150\n",
      "\u001b[1m469/469\u001b[0m \u001b[32m━━━━━━━━━━━━━━━━━━━━\u001b[0m\u001b[37m\u001b[0m \u001b[1m0s\u001b[0m 716us/step - categorical_accuracy: 0.8288 - loss: 0.5043 - val_categorical_accuracy: 0.8317 - val_loss: 0.4991\n",
      "Epoch 28/150\n",
      "\u001b[1m469/469\u001b[0m \u001b[32m━━━━━━━━━━━━━━━━━━━━\u001b[0m\u001b[37m\u001b[0m \u001b[1m0s\u001b[0m 723us/step - categorical_accuracy: 0.8310 - loss: 0.5065 - val_categorical_accuracy: 0.8333 - val_loss: 0.4975\n",
      "Epoch 29/150\n",
      "\u001b[1m469/469\u001b[0m \u001b[32m━━━━━━━━━━━━━━━━━━━━\u001b[0m\u001b[37m\u001b[0m \u001b[1m0s\u001b[0m 714us/step - categorical_accuracy: 0.8292 - loss: 0.5045 - val_categorical_accuracy: 0.8315 - val_loss: 0.4989\n",
      "Epoch 30/150\n",
      "\u001b[1m469/469\u001b[0m \u001b[32m━━━━━━━━━━━━━━━━━━━━\u001b[0m\u001b[37m\u001b[0m \u001b[1m0s\u001b[0m 713us/step - categorical_accuracy: 0.8312 - loss: 0.4996 - val_categorical_accuracy: 0.8308 - val_loss: 0.4982\n",
      "Epoch 31/150\n",
      "\u001b[1m469/469\u001b[0m \u001b[32m━━━━━━━━━━━━━━━━━━━━\u001b[0m\u001b[37m\u001b[0m \u001b[1m0s\u001b[0m 711us/step - categorical_accuracy: 0.8299 - loss: 0.4977 - val_categorical_accuracy: 0.8312 - val_loss: 0.4967\n",
      "Epoch 32/150\n",
      "\u001b[1m469/469\u001b[0m \u001b[32m━━━━━━━━━━━━━━━━━━━━\u001b[0m\u001b[37m\u001b[0m \u001b[1m0s\u001b[0m 726us/step - categorical_accuracy: 0.8288 - loss: 0.5042 - val_categorical_accuracy: 0.8318 - val_loss: 0.4961\n",
      "Epoch 33/150\n",
      "\u001b[1m469/469\u001b[0m \u001b[32m━━━━━━━━━━━━━━━━━━━━\u001b[0m\u001b[37m\u001b[0m \u001b[1m0s\u001b[0m 723us/step - categorical_accuracy: 0.8287 - loss: 0.5064 - val_categorical_accuracy: 0.8331 - val_loss: 0.4963\n",
      "Epoch 34/150\n",
      "\u001b[1m469/469\u001b[0m \u001b[32m━━━━━━━━━━━━━━━━━━━━\u001b[0m\u001b[37m\u001b[0m \u001b[1m0s\u001b[0m 716us/step - categorical_accuracy: 0.8311 - loss: 0.5014 - val_categorical_accuracy: 0.8329 - val_loss: 0.4952\n",
      "Epoch 35/150\n",
      "\u001b[1m469/469\u001b[0m \u001b[32m━━━━━━━━━━━━━━━━━━━━\u001b[0m\u001b[37m\u001b[0m \u001b[1m0s\u001b[0m 704us/step - categorical_accuracy: 0.8310 - loss: 0.5003 - val_categorical_accuracy: 0.8326 - val_loss: 0.4963\n",
      "Epoch 36/150\n",
      "\u001b[1m469/469\u001b[0m \u001b[32m━━━━━━━━━━━━━━━━━━━━\u001b[0m\u001b[37m\u001b[0m \u001b[1m0s\u001b[0m 717us/step - categorical_accuracy: 0.8297 - loss: 0.5010 - val_categorical_accuracy: 0.8331 - val_loss: 0.4952\n",
      "Epoch 37/150\n",
      "\u001b[1m469/469\u001b[0m \u001b[32m━━━━━━━━━━━━━━━━━━━━\u001b[0m\u001b[37m\u001b[0m \u001b[1m0s\u001b[0m 710us/step - categorical_accuracy: 0.8335 - loss: 0.4949 - val_categorical_accuracy: 0.8321 - val_loss: 0.4953\n",
      "Epoch 38/150\n",
      "\u001b[1m469/469\u001b[0m \u001b[32m━━━━━━━━━━━━━━━━━━━━\u001b[0m\u001b[37m\u001b[0m \u001b[1m0s\u001b[0m 716us/step - categorical_accuracy: 0.8325 - loss: 0.4976 - val_categorical_accuracy: 0.8322 - val_loss: 0.4950\n",
      "Epoch 39/150\n",
      "\u001b[1m469/469\u001b[0m \u001b[32m━━━━━━━━━━━━━━━━━━━━\u001b[0m\u001b[37m\u001b[0m \u001b[1m0s\u001b[0m 707us/step - categorical_accuracy: 0.8327 - loss: 0.4965 - val_categorical_accuracy: 0.8314 - val_loss: 0.4941\n",
      "Epoch 40/150\n",
      "\u001b[1m469/469\u001b[0m \u001b[32m━━━━━━━━━━━━━━━━━━━━\u001b[0m\u001b[37m\u001b[0m \u001b[1m0s\u001b[0m 746us/step - categorical_accuracy: 0.8322 - loss: 0.4940 - val_categorical_accuracy: 0.8347 - val_loss: 0.4943\n",
      "Epoch 41/150\n",
      "\u001b[1m469/469\u001b[0m \u001b[32m━━━━━━━━━━━━━━━━━━━━\u001b[0m\u001b[37m\u001b[0m \u001b[1m0s\u001b[0m 704us/step - categorical_accuracy: 0.8306 - loss: 0.5032 - val_categorical_accuracy: 0.8332 - val_loss: 0.4942\n",
      "Epoch 42/150\n",
      "\u001b[1m469/469\u001b[0m \u001b[32m━━━━━━━━━━━━━━━━━━━━\u001b[0m\u001b[37m\u001b[0m \u001b[1m0s\u001b[0m 711us/step - categorical_accuracy: 0.8312 - loss: 0.4980 - val_categorical_accuracy: 0.8345 - val_loss: 0.4933\n",
      "Epoch 43/150\n",
      "\u001b[1m469/469\u001b[0m \u001b[32m━━━━━━━━━━━━━━━━━━━━\u001b[0m\u001b[37m\u001b[0m \u001b[1m0s\u001b[0m 718us/step - categorical_accuracy: 0.8309 - loss: 0.4988 - val_categorical_accuracy: 0.8324 - val_loss: 0.4939\n",
      "Epoch 44/150\n",
      "\u001b[1m469/469\u001b[0m \u001b[32m━━━━━━━━━━━━━━━━━━━━\u001b[0m\u001b[37m\u001b[0m \u001b[1m0s\u001b[0m 703us/step - categorical_accuracy: 0.8307 - loss: 0.5029 - val_categorical_accuracy: 0.8332 - val_loss: 0.4933\n",
      "Epoch 45/150\n",
      "\u001b[1m469/469\u001b[0m \u001b[32m━━━━━━━━━━━━━━━━━━━━\u001b[0m\u001b[37m\u001b[0m \u001b[1m0s\u001b[0m 708us/step - categorical_accuracy: 0.8329 - loss: 0.4961 - val_categorical_accuracy: 0.8335 - val_loss: 0.4932\n",
      "Epoch 46/150\n",
      "\u001b[1m469/469\u001b[0m \u001b[32m━━━━━━━━━━━━━━━━━━━━\u001b[0m\u001b[37m\u001b[0m \u001b[1m0s\u001b[0m 702us/step - categorical_accuracy: 0.8356 - loss: 0.4925 - val_categorical_accuracy: 0.8331 - val_loss: 0.4939\n",
      "Epoch 47/150\n",
      "\u001b[1m469/469\u001b[0m \u001b[32m━━━━━━━━━━━━━━━━━━━━\u001b[0m\u001b[37m\u001b[0m \u001b[1m0s\u001b[0m 742us/step - categorical_accuracy: 0.8310 - loss: 0.4926 - val_categorical_accuracy: 0.8327 - val_loss: 0.4929\n",
      "Epoch 48/150\n",
      "\u001b[1m469/469\u001b[0m \u001b[32m━━━━━━━━━━━━━━━━━━━━\u001b[0m\u001b[37m\u001b[0m \u001b[1m0s\u001b[0m 703us/step - categorical_accuracy: 0.8307 - loss: 0.4965 - val_categorical_accuracy: 0.8346 - val_loss: 0.4933\n",
      "Epoch 49/150\n",
      "\u001b[1m469/469\u001b[0m \u001b[32m━━━━━━━━━━━━━━━━━━━━\u001b[0m\u001b[37m\u001b[0m \u001b[1m0s\u001b[0m 707us/step - categorical_accuracy: 0.8306 - loss: 0.5007 - val_categorical_accuracy: 0.8332 - val_loss: 0.4925\n",
      "Epoch 50/150\n",
      "\u001b[1m469/469\u001b[0m \u001b[32m━━━━━━━━━━━━━━━━━━━━\u001b[0m\u001b[37m\u001b[0m \u001b[1m0s\u001b[0m 708us/step - categorical_accuracy: 0.8310 - loss: 0.4980 - val_categorical_accuracy: 0.8327 - val_loss: 0.4925\n",
      "Epoch 51/150\n",
      "\u001b[1m469/469\u001b[0m \u001b[32m━━━━━━━━━━━━━━━━━━━━\u001b[0m\u001b[37m\u001b[0m \u001b[1m0s\u001b[0m 699us/step - categorical_accuracy: 0.8291 - loss: 0.4992 - val_categorical_accuracy: 0.8336 - val_loss: 0.4920\n",
      "Epoch 52/150\n",
      "\u001b[1m469/469\u001b[0m \u001b[32m━━━━━━━━━━━━━━━━━━━━\u001b[0m\u001b[37m\u001b[0m \u001b[1m0s\u001b[0m 702us/step - categorical_accuracy: 0.8335 - loss: 0.4943 - val_categorical_accuracy: 0.8333 - val_loss: 0.4927\n",
      "Epoch 53/150\n",
      "\u001b[1m469/469\u001b[0m \u001b[32m━━━━━━━━━━━━━━━━━━━━\u001b[0m\u001b[37m\u001b[0m \u001b[1m0s\u001b[0m 708us/step - categorical_accuracy: 0.8332 - loss: 0.4875 - val_categorical_accuracy: 0.8335 - val_loss: 0.4929\n",
      "Epoch 54/150\n",
      "\u001b[1m469/469\u001b[0m \u001b[32m━━━━━━━━━━━━━━━━━━━━\u001b[0m\u001b[37m\u001b[0m \u001b[1m0s\u001b[0m 745us/step - categorical_accuracy: 0.8312 - loss: 0.4998 - val_categorical_accuracy: 0.8351 - val_loss: 0.4916\n",
      "Epoch 55/150\n",
      "\u001b[1m469/469\u001b[0m \u001b[32m━━━━━━━━━━━━━━━━━━━━\u001b[0m\u001b[37m\u001b[0m \u001b[1m0s\u001b[0m 708us/step - categorical_accuracy: 0.8328 - loss: 0.4930 - val_categorical_accuracy: 0.8352 - val_loss: 0.4922\n",
      "Epoch 56/150\n",
      "\u001b[1m469/469\u001b[0m \u001b[32m━━━━━━━━━━━━━━━━━━━━\u001b[0m\u001b[37m\u001b[0m \u001b[1m0s\u001b[0m 716us/step - categorical_accuracy: 0.8326 - loss: 0.4948 - val_categorical_accuracy: 0.8342 - val_loss: 0.4925\n",
      "Epoch 57/150\n",
      "\u001b[1m469/469\u001b[0m \u001b[32m━━━━━━━━━━━━━━━━━━━━\u001b[0m\u001b[37m\u001b[0m \u001b[1m0s\u001b[0m 720us/step - categorical_accuracy: 0.8328 - loss: 0.4954 - val_categorical_accuracy: 0.8344 - val_loss: 0.4916\n",
      "Epoch 58/150\n",
      "\u001b[1m469/469\u001b[0m \u001b[32m━━━━━━━━━━━━━━━━━━━━\u001b[0m\u001b[37m\u001b[0m \u001b[1m0s\u001b[0m 699us/step - categorical_accuracy: 0.8309 - loss: 0.4987 - val_categorical_accuracy: 0.8340 - val_loss: 0.4925\n",
      "Epoch 59/150\n",
      "\u001b[1m469/469\u001b[0m \u001b[32m━━━━━━━━━━━━━━━━━━━━\u001b[0m\u001b[37m\u001b[0m \u001b[1m0s\u001b[0m 708us/step - categorical_accuracy: 0.8310 - loss: 0.4939 - val_categorical_accuracy: 0.8345 - val_loss: 0.4909\n",
      "Epoch 60/150\n",
      "\u001b[1m469/469\u001b[0m \u001b[32m━━━━━━━━━━━━━━━━━━━━\u001b[0m\u001b[37m\u001b[0m \u001b[1m0s\u001b[0m 720us/step - categorical_accuracy: 0.8324 - loss: 0.4955 - val_categorical_accuracy: 0.8340 - val_loss: 0.4924\n",
      "Epoch 61/150\n",
      "\u001b[1m469/469\u001b[0m \u001b[32m━━━━━━━━━━━━━━━━━━━━\u001b[0m\u001b[37m\u001b[0m \u001b[1m0s\u001b[0m 705us/step - categorical_accuracy: 0.8318 - loss: 0.4975 - val_categorical_accuracy: 0.8354 - val_loss: 0.4923\n",
      "Epoch 62/150\n",
      "\u001b[1m469/469\u001b[0m \u001b[32m━━━━━━━━━━━━━━━━━━━━\u001b[0m\u001b[37m\u001b[0m \u001b[1m0s\u001b[0m 716us/step - categorical_accuracy: 0.8303 - loss: 0.4982 - val_categorical_accuracy: 0.8346 - val_loss: 0.4910\n",
      "Epoch 63/150\n",
      "\u001b[1m469/469\u001b[0m \u001b[32m━━━━━━━━━━━━━━━━━━━━\u001b[0m\u001b[37m\u001b[0m \u001b[1m0s\u001b[0m 704us/step - categorical_accuracy: 0.8322 - loss: 0.4945 - val_categorical_accuracy: 0.8347 - val_loss: 0.4922\n",
      "Epoch 64/150\n",
      "\u001b[1m469/469\u001b[0m \u001b[32m━━━━━━━━━━━━━━━━━━━━\u001b[0m\u001b[37m\u001b[0m \u001b[1m0s\u001b[0m 706us/step - categorical_accuracy: 0.8351 - loss: 0.4843 - val_categorical_accuracy: 0.8349 - val_loss: 0.4921\n",
      "Epoch 65/150\n",
      "\u001b[1m469/469\u001b[0m \u001b[32m━━━━━━━━━━━━━━━━━━━━\u001b[0m\u001b[37m\u001b[0m \u001b[1m0s\u001b[0m 715us/step - categorical_accuracy: 0.8311 - loss: 0.4953 - val_categorical_accuracy: 0.8346 - val_loss: 0.4921\n",
      "Epoch 66/150\n",
      "\u001b[1m469/469\u001b[0m \u001b[32m━━━━━━━━━━━━━━━━━━━━\u001b[0m\u001b[37m\u001b[0m \u001b[1m0s\u001b[0m 707us/step - categorical_accuracy: 0.8330 - loss: 0.4942 - val_categorical_accuracy: 0.8340 - val_loss: 0.4929\n",
      "Epoch 67/150\n",
      "\u001b[1m469/469\u001b[0m \u001b[32m━━━━━━━━━━━━━━━━━━━━\u001b[0m\u001b[37m\u001b[0m \u001b[1m0s\u001b[0m 713us/step - categorical_accuracy: 0.8301 - loss: 0.4983 - val_categorical_accuracy: 0.8347 - val_loss: 0.4918\n",
      "Epoch 68/150\n",
      "\u001b[1m469/469\u001b[0m \u001b[32m━━━━━━━━━━━━━━━━━━━━\u001b[0m\u001b[37m\u001b[0m \u001b[1m0s\u001b[0m 742us/step - categorical_accuracy: 0.8302 - loss: 0.4975 - val_categorical_accuracy: 0.8338 - val_loss: 0.4927\n",
      "Epoch 69/150\n",
      "\u001b[1m469/469\u001b[0m \u001b[32m━━━━━━━━━━━━━━━━━━━━\u001b[0m\u001b[37m\u001b[0m \u001b[1m0s\u001b[0m 719us/step - categorical_accuracy: 0.8320 - loss: 0.4960 - val_categorical_accuracy: 0.8356 - val_loss: 0.4928\n",
      "Epoch 70/150\n",
      "\u001b[1m469/469\u001b[0m \u001b[32m━━━━━━━━━━━━━━━━━━━━\u001b[0m\u001b[37m\u001b[0m \u001b[1m0s\u001b[0m 718us/step - categorical_accuracy: 0.8324 - loss: 0.4905 - val_categorical_accuracy: 0.8348 - val_loss: 0.4917\n",
      "Epoch 71/150\n",
      "\u001b[1m469/469\u001b[0m \u001b[32m━━━━━━━━━━━━━━━━━━━━\u001b[0m\u001b[37m\u001b[0m \u001b[1m0s\u001b[0m 713us/step - categorical_accuracy: 0.8288 - loss: 0.4994 - val_categorical_accuracy: 0.8333 - val_loss: 0.4925\n",
      "Epoch 72/150\n",
      "\u001b[1m469/469\u001b[0m \u001b[32m━━━━━━━━━━━━━━━━━━━━\u001b[0m\u001b[37m\u001b[0m \u001b[1m0s\u001b[0m 707us/step - categorical_accuracy: 0.8320 - loss: 0.4935 - val_categorical_accuracy: 0.8344 - val_loss: 0.4909\n",
      "Epoch 73/150\n",
      "\u001b[1m469/469\u001b[0m \u001b[32m━━━━━━━━━━━━━━━━━━━━\u001b[0m\u001b[37m\u001b[0m \u001b[1m0s\u001b[0m 709us/step - categorical_accuracy: 0.8323 - loss: 0.4914 - val_categorical_accuracy: 0.8348 - val_loss: 0.4916\n",
      "Epoch 74/150\n",
      "\u001b[1m469/469\u001b[0m \u001b[32m━━━━━━━━━━━━━━━━━━━━\u001b[0m\u001b[37m\u001b[0m \u001b[1m0s\u001b[0m 713us/step - categorical_accuracy: 0.8305 - loss: 0.4904 - val_categorical_accuracy: 0.8354 - val_loss: 0.4913\n",
      "Epoch 75/150\n",
      "\u001b[1m469/469\u001b[0m \u001b[32m━━━━━━━━━━━━━━━━━━━━\u001b[0m\u001b[37m\u001b[0m \u001b[1m0s\u001b[0m 742us/step - categorical_accuracy: 0.8360 - loss: 0.4800 - val_categorical_accuracy: 0.8353 - val_loss: 0.4918\n",
      "Epoch 76/150\n",
      "\u001b[1m469/469\u001b[0m \u001b[32m━━━━━━━━━━━━━━━━━━━━\u001b[0m\u001b[37m\u001b[0m \u001b[1m0s\u001b[0m 720us/step - categorical_accuracy: 0.8326 - loss: 0.4974 - val_categorical_accuracy: 0.8359 - val_loss: 0.4928\n",
      "Epoch 77/150\n",
      "\u001b[1m469/469\u001b[0m \u001b[32m━━━━━━━━━━━━━━━━━━━━\u001b[0m\u001b[37m\u001b[0m \u001b[1m0s\u001b[0m 711us/step - categorical_accuracy: 0.8319 - loss: 0.4929 - val_categorical_accuracy: 0.8357 - val_loss: 0.4905\n",
      "Epoch 78/150\n",
      "\u001b[1m469/469\u001b[0m \u001b[32m━━━━━━━━━━━━━━━━━━━━\u001b[0m\u001b[37m\u001b[0m \u001b[1m0s\u001b[0m 707us/step - categorical_accuracy: 0.8310 - loss: 0.4983 - val_categorical_accuracy: 0.8353 - val_loss: 0.4927\n",
      "Epoch 79/150\n",
      "\u001b[1m469/469\u001b[0m \u001b[32m━━━━━━━━━━━━━━━━━━━━\u001b[0m\u001b[37m\u001b[0m \u001b[1m0s\u001b[0m 719us/step - categorical_accuracy: 0.8332 - loss: 0.4907 - val_categorical_accuracy: 0.8337 - val_loss: 0.4909\n",
      "Epoch 80/150\n",
      "\u001b[1m469/469\u001b[0m \u001b[32m━━━━━━━━━━━━━━━━━━━━\u001b[0m\u001b[37m\u001b[0m \u001b[1m0s\u001b[0m 699us/step - categorical_accuracy: 0.8313 - loss: 0.4964 - val_categorical_accuracy: 0.8349 - val_loss: 0.4917\n",
      "Epoch 81/150\n",
      "\u001b[1m469/469\u001b[0m \u001b[32m━━━━━━━━━━━━━━━━━━━━\u001b[0m\u001b[37m\u001b[0m \u001b[1m0s\u001b[0m 716us/step - categorical_accuracy: 0.8325 - loss: 0.4916 - val_categorical_accuracy: 0.8340 - val_loss: 0.4914\n",
      "Epoch 82/150\n",
      "\u001b[1m469/469\u001b[0m \u001b[32m━━━━━━━━━━━━━━━━━━━━\u001b[0m\u001b[37m\u001b[0m \u001b[1m0s\u001b[0m 725us/step - categorical_accuracy: 0.8317 - loss: 0.4929 - val_categorical_accuracy: 0.8362 - val_loss: 0.4921\n",
      "Epoch 83/150\n",
      "\u001b[1m469/469\u001b[0m \u001b[32m━━━━━━━━━━━━━━━━━━━━\u001b[0m\u001b[37m\u001b[0m \u001b[1m0s\u001b[0m 703us/step - categorical_accuracy: 0.8333 - loss: 0.4922 - val_categorical_accuracy: 0.8342 - val_loss: 0.4925\n",
      "Epoch 84/150\n",
      "\u001b[1m469/469\u001b[0m \u001b[32m━━━━━━━━━━━━━━━━━━━━\u001b[0m\u001b[37m\u001b[0m \u001b[1m0s\u001b[0m 703us/step - categorical_accuracy: 0.8312 - loss: 0.4962 - val_categorical_accuracy: 0.8355 - val_loss: 0.4918\n",
      "Epoch 85/150\n",
      "\u001b[1m469/469\u001b[0m \u001b[32m━━━━━━━━━━━━━━━━━━━━\u001b[0m\u001b[37m\u001b[0m \u001b[1m0s\u001b[0m 702us/step - categorical_accuracy: 0.8313 - loss: 0.4934 - val_categorical_accuracy: 0.8333 - val_loss: 0.4916\n",
      "Epoch 86/150\n",
      "\u001b[1m469/469\u001b[0m \u001b[32m━━━━━━━━━━━━━━━━━━━━\u001b[0m\u001b[37m\u001b[0m \u001b[1m0s\u001b[0m 709us/step - categorical_accuracy: 0.8333 - loss: 0.4905 - val_categorical_accuracy: 0.8335 - val_loss: 0.4912\n",
      "Epoch 87/150\n",
      "\u001b[1m469/469\u001b[0m \u001b[32m━━━━━━━━━━━━━━━━━━━━\u001b[0m\u001b[37m\u001b[0m \u001b[1m0s\u001b[0m 705us/step - categorical_accuracy: 0.8343 - loss: 0.4870 - val_categorical_accuracy: 0.8357 - val_loss: 0.4919\n",
      "Epoch 88/150\n",
      "\u001b[1m469/469\u001b[0m \u001b[32m━━━━━━━━━━━━━━━━━━━━\u001b[0m\u001b[37m\u001b[0m \u001b[1m0s\u001b[0m 738us/step - categorical_accuracy: 0.8354 - loss: 0.4864 - val_categorical_accuracy: 0.8354 - val_loss: 0.4914\n",
      "Epoch 89/150\n",
      "\u001b[1m469/469\u001b[0m \u001b[32m━━━━━━━━━━━━━━━━━━━━\u001b[0m\u001b[37m\u001b[0m \u001b[1m0s\u001b[0m 704us/step - categorical_accuracy: 0.8305 - loss: 0.4917 - val_categorical_accuracy: 0.8337 - val_loss: 0.4932\n",
      "Epoch 90/150\n",
      "\u001b[1m469/469\u001b[0m \u001b[32m━━━━━━━━━━━━━━━━━━━━\u001b[0m\u001b[37m\u001b[0m \u001b[1m0s\u001b[0m 708us/step - categorical_accuracy: 0.8306 - loss: 0.4947 - val_categorical_accuracy: 0.8355 - val_loss: 0.4911\n",
      "Epoch 91/150\n",
      "\u001b[1m469/469\u001b[0m \u001b[32m━━━━━━━━━━━━━━━━━━━━\u001b[0m\u001b[37m\u001b[0m \u001b[1m0s\u001b[0m 711us/step - categorical_accuracy: 0.8298 - loss: 0.5024 - val_categorical_accuracy: 0.8373 - val_loss: 0.4921\n",
      "Epoch 92/150\n",
      "\u001b[1m469/469\u001b[0m \u001b[32m━━━━━━━━━━━━━━━━━━━━\u001b[0m\u001b[37m\u001b[0m \u001b[1m0s\u001b[0m 710us/step - categorical_accuracy: 0.8325 - loss: 0.4957 - val_categorical_accuracy: 0.8353 - val_loss: 0.4917\n",
      "Epoch 93/150\n",
      "\u001b[1m469/469\u001b[0m \u001b[32m━━━━━━━━━━━━━━━━━━━━\u001b[0m\u001b[37m\u001b[0m \u001b[1m0s\u001b[0m 702us/step - categorical_accuracy: 0.8325 - loss: 0.4928 - val_categorical_accuracy: 0.8361 - val_loss: 0.4906\n",
      "Epoch 94/150\n",
      "\u001b[1m469/469\u001b[0m \u001b[32m━━━━━━━━━━━━━━━━━━━━\u001b[0m\u001b[37m\u001b[0m \u001b[1m0s\u001b[0m 743us/step - categorical_accuracy: 0.8320 - loss: 0.4935 - val_categorical_accuracy: 0.8342 - val_loss: 0.4911\n",
      "Epoch 95/150\n",
      "\u001b[1m469/469\u001b[0m \u001b[32m━━━━━━━━━━━━━━━━━━━━\u001b[0m\u001b[37m\u001b[0m \u001b[1m0s\u001b[0m 702us/step - categorical_accuracy: 0.8327 - loss: 0.4973 - val_categorical_accuracy: 0.8354 - val_loss: 0.4917\n",
      "Epoch 96/150\n",
      "\u001b[1m469/469\u001b[0m \u001b[32m━━━━━━━━━━━━━━━━━━━━\u001b[0m\u001b[37m\u001b[0m \u001b[1m0s\u001b[0m 705us/step - categorical_accuracy: 0.8328 - loss: 0.4954 - val_categorical_accuracy: 0.8350 - val_loss: 0.4912\n",
      "Epoch 97/150\n",
      "\u001b[1m469/469\u001b[0m \u001b[32m━━━━━━━━━━━━━━━━━━━━\u001b[0m\u001b[37m\u001b[0m \u001b[1m0s\u001b[0m 696us/step - categorical_accuracy: 0.8324 - loss: 0.4944 - val_categorical_accuracy: 0.8348 - val_loss: 0.4916\n",
      "Epoch 98/150\n",
      "\u001b[1m469/469\u001b[0m \u001b[32m━━━━━━━━━━━━━━━━━━━━\u001b[0m\u001b[37m\u001b[0m \u001b[1m0s\u001b[0m 706us/step - categorical_accuracy: 0.8325 - loss: 0.4905 - val_categorical_accuracy: 0.8359 - val_loss: 0.4909\n",
      "Epoch 99/150\n",
      "\u001b[1m469/469\u001b[0m \u001b[32m━━━━━━━━━━━━━━━━━━━━\u001b[0m\u001b[37m\u001b[0m \u001b[1m0s\u001b[0m 701us/step - categorical_accuracy: 0.8312 - loss: 0.4972 - val_categorical_accuracy: 0.8350 - val_loss: 0.4915\n",
      "Epoch 100/150\n",
      "\u001b[1m469/469\u001b[0m \u001b[32m━━━━━━━━━━━━━━━━━━━━\u001b[0m\u001b[37m\u001b[0m \u001b[1m0s\u001b[0m 742us/step - categorical_accuracy: 0.8312 - loss: 0.4939 - val_categorical_accuracy: 0.8363 - val_loss: 0.4910\n",
      "Epoch 101/150\n",
      "\u001b[1m469/469\u001b[0m \u001b[32m━━━━━━━━━━━━━━━━━━━━\u001b[0m\u001b[37m\u001b[0m \u001b[1m0s\u001b[0m 710us/step - categorical_accuracy: 0.8322 - loss: 0.4935 - val_categorical_accuracy: 0.8360 - val_loss: 0.4902\n",
      "Epoch 102/150\n",
      "\u001b[1m469/469\u001b[0m \u001b[32m━━━━━━━━━━━━━━━━━━━━\u001b[0m\u001b[37m\u001b[0m \u001b[1m0s\u001b[0m 705us/step - categorical_accuracy: 0.8343 - loss: 0.4866 - val_categorical_accuracy: 0.8350 - val_loss: 0.4917\n",
      "Epoch 103/150\n",
      "\u001b[1m469/469\u001b[0m \u001b[32m━━━━━━━━━━━━━━━━━━━━\u001b[0m\u001b[37m\u001b[0m \u001b[1m0s\u001b[0m 705us/step - categorical_accuracy: 0.8329 - loss: 0.4897 - val_categorical_accuracy: 0.8357 - val_loss: 0.4913\n",
      "Epoch 104/150\n",
      "\u001b[1m469/469\u001b[0m \u001b[32m━━━━━━━━━━━━━━━━━━━━\u001b[0m\u001b[37m\u001b[0m \u001b[1m0s\u001b[0m 705us/step - categorical_accuracy: 0.8320 - loss: 0.4959 - val_categorical_accuracy: 0.8353 - val_loss: 0.4909\n",
      "Epoch 105/150\n",
      "\u001b[1m469/469\u001b[0m \u001b[32m━━━━━━━━━━━━━━━━━━━━\u001b[0m\u001b[37m\u001b[0m \u001b[1m0s\u001b[0m 708us/step - categorical_accuracy: 0.8349 - loss: 0.4842 - val_categorical_accuracy: 0.8349 - val_loss: 0.4922\n",
      "Epoch 106/150\n",
      "\u001b[1m469/469\u001b[0m \u001b[32m━━━━━━━━━━━━━━━━━━━━\u001b[0m\u001b[37m\u001b[0m \u001b[1m0s\u001b[0m 754us/step - categorical_accuracy: 0.8300 - loss: 0.4993 - val_categorical_accuracy: 0.8349 - val_loss: 0.4910\n",
      "Epoch 107/150\n",
      "\u001b[1m469/469\u001b[0m \u001b[32m━━━━━━━━━━━━━━━━━━━━\u001b[0m\u001b[37m\u001b[0m \u001b[1m0s\u001b[0m 696us/step - categorical_accuracy: 0.8309 - loss: 0.5004 - val_categorical_accuracy: 0.8346 - val_loss: 0.4918\n",
      "Epoch 108/150\n",
      "\u001b[1m469/469\u001b[0m \u001b[32m━━━━━━━━━━━━━━━━━━━━\u001b[0m\u001b[37m\u001b[0m \u001b[1m0s\u001b[0m 711us/step - categorical_accuracy: 0.8324 - loss: 0.4925 - val_categorical_accuracy: 0.8354 - val_loss: 0.4920\n",
      "Epoch 109/150\n",
      "\u001b[1m469/469\u001b[0m \u001b[32m━━━━━━━━━━━━━━━━━━━━\u001b[0m\u001b[37m\u001b[0m \u001b[1m0s\u001b[0m 714us/step - categorical_accuracy: 0.8333 - loss: 0.4880 - val_categorical_accuracy: 0.8371 - val_loss: 0.4919\n",
      "Epoch 110/150\n",
      "\u001b[1m469/469\u001b[0m \u001b[32m━━━━━━━━━━━━━━━━━━━━\u001b[0m\u001b[37m\u001b[0m \u001b[1m0s\u001b[0m 697us/step - categorical_accuracy: 0.8330 - loss: 0.4929 - val_categorical_accuracy: 0.8351 - val_loss: 0.4910\n",
      "Epoch 111/150\n",
      "\u001b[1m469/469\u001b[0m \u001b[32m━━━━━━━━━━━━━━━━━━━━\u001b[0m\u001b[37m\u001b[0m \u001b[1m0s\u001b[0m 740us/step - categorical_accuracy: 0.8334 - loss: 0.4927 - val_categorical_accuracy: 0.8351 - val_loss: 0.4904\n",
      "Epoch 112/150\n",
      "\u001b[1m469/469\u001b[0m \u001b[32m━━━━━━━━━━━━━━━━━━━━\u001b[0m\u001b[37m\u001b[0m \u001b[1m0s\u001b[0m 709us/step - categorical_accuracy: 0.8320 - loss: 0.4941 - val_categorical_accuracy: 0.8350 - val_loss: 0.4920\n",
      "Epoch 113/150\n",
      "\u001b[1m469/469\u001b[0m \u001b[32m━━━━━━━━━━━━━━━━━━━━\u001b[0m\u001b[37m\u001b[0m \u001b[1m0s\u001b[0m 700us/step - categorical_accuracy: 0.8340 - loss: 0.4916 - val_categorical_accuracy: 0.8353 - val_loss: 0.4928\n",
      "Epoch 114/150\n",
      "\u001b[1m469/469\u001b[0m \u001b[32m━━━━━━━━━━━━━━━━━━━━\u001b[0m\u001b[37m\u001b[0m \u001b[1m0s\u001b[0m 695us/step - categorical_accuracy: 0.8326 - loss: 0.4912 - val_categorical_accuracy: 0.8365 - val_loss: 0.4925\n",
      "Epoch 115/150\n",
      "\u001b[1m469/469\u001b[0m \u001b[32m━━━━━━━━━━━━━━━━━━━━\u001b[0m\u001b[37m\u001b[0m \u001b[1m0s\u001b[0m 700us/step - categorical_accuracy: 0.8339 - loss: 0.4858 - val_categorical_accuracy: 0.8349 - val_loss: 0.4921\n",
      "Epoch 116/150\n",
      "\u001b[1m469/469\u001b[0m \u001b[32m━━━━━━━━━━━━━━━━━━━━\u001b[0m\u001b[37m\u001b[0m \u001b[1m0s\u001b[0m 709us/step - categorical_accuracy: 0.8321 - loss: 0.4939 - val_categorical_accuracy: 0.8348 - val_loss: 0.4918\n",
      "Epoch 117/150\n",
      "\u001b[1m469/469\u001b[0m \u001b[32m━━━━━━━━━━━━━━━━━━━━\u001b[0m\u001b[37m\u001b[0m \u001b[1m0s\u001b[0m 734us/step - categorical_accuracy: 0.8338 - loss: 0.4875 - val_categorical_accuracy: 0.8353 - val_loss: 0.4919\n",
      "Epoch 118/150\n",
      "\u001b[1m469/469\u001b[0m \u001b[32m━━━━━━━━━━━━━━━━━━━━\u001b[0m\u001b[37m\u001b[0m \u001b[1m0s\u001b[0m 706us/step - categorical_accuracy: 0.8331 - loss: 0.4919 - val_categorical_accuracy: 0.8348 - val_loss: 0.4920\n",
      "Epoch 119/150\n",
      "\u001b[1m469/469\u001b[0m \u001b[32m━━━━━━━━━━━━━━━━━━━━\u001b[0m\u001b[37m\u001b[0m \u001b[1m0s\u001b[0m 703us/step - categorical_accuracy: 0.8322 - loss: 0.4962 - val_categorical_accuracy: 0.8364 - val_loss: 0.4916\n",
      "Epoch 120/150\n",
      "\u001b[1m469/469\u001b[0m \u001b[32m━━━━━━━━━━━━━━━━━━━━\u001b[0m\u001b[37m\u001b[0m \u001b[1m0s\u001b[0m 723us/step - categorical_accuracy: 0.8291 - loss: 0.4975 - val_categorical_accuracy: 0.8346 - val_loss: 0.4920\n",
      "Epoch 121/150\n",
      "\u001b[1m469/469\u001b[0m \u001b[32m━━━━━━━━━━━━━━━━━━━━\u001b[0m\u001b[37m\u001b[0m \u001b[1m0s\u001b[0m 713us/step - categorical_accuracy: 0.8323 - loss: 0.4941 - val_categorical_accuracy: 0.8359 - val_loss: 0.4914\n",
      "Epoch 122/150\n",
      "\u001b[1m469/469\u001b[0m \u001b[32m━━━━━━━━━━━━━━━━━━━━\u001b[0m\u001b[37m\u001b[0m \u001b[1m0s\u001b[0m 744us/step - categorical_accuracy: 0.8331 - loss: 0.4881 - val_categorical_accuracy: 0.8350 - val_loss: 0.4912\n",
      "Epoch 123/150\n",
      "\u001b[1m469/469\u001b[0m \u001b[32m━━━━━━━━━━━━━━━━━━━━\u001b[0m\u001b[37m\u001b[0m \u001b[1m0s\u001b[0m 700us/step - categorical_accuracy: 0.8321 - loss: 0.4895 - val_categorical_accuracy: 0.8354 - val_loss: 0.4915\n",
      "Epoch 124/150\n",
      "\u001b[1m469/469\u001b[0m \u001b[32m━━━━━━━━━━━━━━━━━━━━\u001b[0m\u001b[37m\u001b[0m \u001b[1m0s\u001b[0m 701us/step - categorical_accuracy: 0.8314 - loss: 0.4947 - val_categorical_accuracy: 0.8365 - val_loss: 0.4922\n",
      "Epoch 125/150\n",
      "\u001b[1m469/469\u001b[0m \u001b[32m━━━━━━━━━━━━━━━━━━━━\u001b[0m\u001b[37m\u001b[0m \u001b[1m0s\u001b[0m 703us/step - categorical_accuracy: 0.8340 - loss: 0.4876 - val_categorical_accuracy: 0.8340 - val_loss: 0.4918\n",
      "Epoch 126/150\n",
      "\u001b[1m469/469\u001b[0m \u001b[32m━━━━━━━━━━━━━━━━━━━━\u001b[0m\u001b[37m\u001b[0m \u001b[1m0s\u001b[0m 718us/step - categorical_accuracy: 0.8345 - loss: 0.4910 - val_categorical_accuracy: 0.8364 - val_loss: 0.4915\n",
      "Epoch 127/150\n",
      "\u001b[1m469/469\u001b[0m \u001b[32m━━━━━━━━━━━━━━━━━━━━\u001b[0m\u001b[37m\u001b[0m \u001b[1m0s\u001b[0m 694us/step - categorical_accuracy: 0.8322 - loss: 0.4914 - val_categorical_accuracy: 0.8367 - val_loss: 0.4906\n",
      "Epoch 128/150\n",
      "\u001b[1m469/469\u001b[0m \u001b[32m━━━━━━━━━━━━━━━━━━━━\u001b[0m\u001b[37m\u001b[0m \u001b[1m0s\u001b[0m 735us/step - categorical_accuracy: 0.8315 - loss: 0.4960 - val_categorical_accuracy: 0.8353 - val_loss: 0.4922\n",
      "Epoch 129/150\n",
      "\u001b[1m469/469\u001b[0m \u001b[32m━━━━━━━━━━━━━━━━━━━━\u001b[0m\u001b[37m\u001b[0m \u001b[1m0s\u001b[0m 699us/step - categorical_accuracy: 0.8317 - loss: 0.4983 - val_categorical_accuracy: 0.8365 - val_loss: 0.4908\n",
      "Epoch 130/150\n",
      "\u001b[1m469/469\u001b[0m \u001b[32m━━━━━━━━━━━━━━━━━━━━\u001b[0m\u001b[37m\u001b[0m \u001b[1m0s\u001b[0m 696us/step - categorical_accuracy: 0.8330 - loss: 0.4897 - val_categorical_accuracy: 0.8366 - val_loss: 0.4902\n",
      "Epoch 131/150\n",
      "\u001b[1m469/469\u001b[0m \u001b[32m━━━━━━━━━━━━━━━━━━━━\u001b[0m\u001b[37m\u001b[0m \u001b[1m0s\u001b[0m 706us/step - categorical_accuracy: 0.8313 - loss: 0.4936 - val_categorical_accuracy: 0.8357 - val_loss: 0.4915\n",
      "Epoch 132/150\n",
      "\u001b[1m469/469\u001b[0m \u001b[32m━━━━━━━━━━━━━━━━━━━━\u001b[0m\u001b[37m\u001b[0m \u001b[1m0s\u001b[0m 694us/step - categorical_accuracy: 0.8310 - loss: 0.5004 - val_categorical_accuracy: 0.8363 - val_loss: 0.4921\n",
      "Epoch 133/150\n",
      "\u001b[1m469/469\u001b[0m \u001b[32m━━━━━━━━━━━━━━━━━━━━\u001b[0m\u001b[37m\u001b[0m \u001b[1m0s\u001b[0m 732us/step - categorical_accuracy: 0.8318 - loss: 0.4941 - val_categorical_accuracy: 0.8357 - val_loss: 0.4910\n",
      "Epoch 134/150\n",
      "\u001b[1m469/469\u001b[0m \u001b[32m━━━━━━━━━━━━━━━━━━━━\u001b[0m\u001b[37m\u001b[0m \u001b[1m0s\u001b[0m 706us/step - categorical_accuracy: 0.8328 - loss: 0.4911 - val_categorical_accuracy: 0.8365 - val_loss: 0.4917\n",
      "Epoch 135/150\n",
      "\u001b[1m469/469\u001b[0m \u001b[32m━━━━━━━━━━━━━━━━━━━━\u001b[0m\u001b[37m\u001b[0m \u001b[1m0s\u001b[0m 700us/step - categorical_accuracy: 0.8306 - loss: 0.4983 - val_categorical_accuracy: 0.8353 - val_loss: 0.4919\n",
      "Epoch 136/150\n",
      "\u001b[1m469/469\u001b[0m \u001b[32m━━━━━━━━━━━━━━━━━━━━\u001b[0m\u001b[37m\u001b[0m \u001b[1m0s\u001b[0m 716us/step - categorical_accuracy: 0.8315 - loss: 0.4947 - val_categorical_accuracy: 0.8367 - val_loss: 0.4914\n",
      "Epoch 137/150\n",
      "\u001b[1m469/469\u001b[0m \u001b[32m━━━━━━━━━━━━━━━━━━━━\u001b[0m\u001b[37m\u001b[0m \u001b[1m0s\u001b[0m 710us/step - categorical_accuracy: 0.8335 - loss: 0.4895 - val_categorical_accuracy: 0.8334 - val_loss: 0.4949\n",
      "Epoch 138/150\n",
      "\u001b[1m469/469\u001b[0m \u001b[32m━━━━━━━━━━━━━━━━━━━━\u001b[0m\u001b[37m\u001b[0m \u001b[1m0s\u001b[0m 692us/step - categorical_accuracy: 0.8304 - loss: 0.4980 - val_categorical_accuracy: 0.8362 - val_loss: 0.4915\n",
      "Epoch 139/150\n",
      "\u001b[1m469/469\u001b[0m \u001b[32m━━━━━━━━━━━━━━━━━━━━\u001b[0m\u001b[37m\u001b[0m \u001b[1m0s\u001b[0m 744us/step - categorical_accuracy: 0.8310 - loss: 0.4950 - val_categorical_accuracy: 0.8361 - val_loss: 0.4908\n",
      "Epoch 140/150\n",
      "\u001b[1m469/469\u001b[0m \u001b[32m━━━━━━━━━━━━━━━━━━━━\u001b[0m\u001b[37m\u001b[0m \u001b[1m0s\u001b[0m 716us/step - categorical_accuracy: 0.8330 - loss: 0.4897 - val_categorical_accuracy: 0.8349 - val_loss: 0.4933\n",
      "Epoch 141/150\n",
      "\u001b[1m469/469\u001b[0m \u001b[32m━━━━━━━━━━━━━━━━━━━━\u001b[0m\u001b[37m\u001b[0m \u001b[1m0s\u001b[0m 709us/step - categorical_accuracy: 0.8312 - loss: 0.4967 - val_categorical_accuracy: 0.8345 - val_loss: 0.4914\n",
      "Epoch 142/150\n",
      "\u001b[1m469/469\u001b[0m \u001b[32m━━━━━━━━━━━━━━━━━━━━\u001b[0m\u001b[37m\u001b[0m \u001b[1m0s\u001b[0m 705us/step - categorical_accuracy: 0.8319 - loss: 0.4924 - val_categorical_accuracy: 0.8356 - val_loss: 0.4914\n",
      "Epoch 143/150\n",
      "\u001b[1m469/469\u001b[0m \u001b[32m━━━━━━━━━━━━━━━━━━━━\u001b[0m\u001b[37m\u001b[0m \u001b[1m0s\u001b[0m 708us/step - categorical_accuracy: 0.8299 - loss: 0.4930 - val_categorical_accuracy: 0.8356 - val_loss: 0.4935\n",
      "Epoch 144/150\n",
      "\u001b[1m469/469\u001b[0m \u001b[32m━━━━━━━━━━━━━━━━━━━━\u001b[0m\u001b[37m\u001b[0m \u001b[1m0s\u001b[0m 736us/step - categorical_accuracy: 0.8301 - loss: 0.4953 - val_categorical_accuracy: 0.8343 - val_loss: 0.4926\n",
      "Epoch 145/150\n",
      "\u001b[1m469/469\u001b[0m \u001b[32m━━━━━━━━━━━━━━━━━━━━\u001b[0m\u001b[37m\u001b[0m \u001b[1m0s\u001b[0m 702us/step - categorical_accuracy: 0.8362 - loss: 0.4844 - val_categorical_accuracy: 0.8357 - val_loss: 0.4920\n",
      "Epoch 146/150\n",
      "\u001b[1m469/469\u001b[0m \u001b[32m━━━━━━━━━━━━━━━━━━━━\u001b[0m\u001b[37m\u001b[0m \u001b[1m0s\u001b[0m 708us/step - categorical_accuracy: 0.8321 - loss: 0.4907 - val_categorical_accuracy: 0.8352 - val_loss: 0.4920\n",
      "Epoch 147/150\n",
      "\u001b[1m469/469\u001b[0m \u001b[32m━━━━━━━━━━━━━━━━━━━━\u001b[0m\u001b[37m\u001b[0m \u001b[1m0s\u001b[0m 704us/step - categorical_accuracy: 0.8335 - loss: 0.4884 - val_categorical_accuracy: 0.8348 - val_loss: 0.4924\n",
      "Epoch 148/150\n",
      "\u001b[1m469/469\u001b[0m \u001b[32m━━━━━━━━━━━━━━━━━━━━\u001b[0m\u001b[37m\u001b[0m \u001b[1m0s\u001b[0m 705us/step - categorical_accuracy: 0.8337 - loss: 0.4903 - val_categorical_accuracy: 0.8353 - val_loss: 0.4920\n",
      "Epoch 149/150\n",
      "\u001b[1m469/469\u001b[0m \u001b[32m━━━━━━━━━━━━━━━━━━━━\u001b[0m\u001b[37m\u001b[0m \u001b[1m0s\u001b[0m 740us/step - categorical_accuracy: 0.8343 - loss: 0.4884 - val_categorical_accuracy: 0.8355 - val_loss: 0.4914\n",
      "Epoch 150/150\n",
      "\u001b[1m469/469\u001b[0m \u001b[32m━━━━━━━━━━━━━━━━━━━━\u001b[0m\u001b[37m\u001b[0m \u001b[1m0s\u001b[0m 701us/step - categorical_accuracy: 0.8336 - loss: 0.4872 - val_categorical_accuracy: 0.8343 - val_loss: 0.4921\n"
     ]
    }
   ],
   "source": [
    "history = Softmax_Classifer_model.fit(train_images, train_labels, epochs=150, batch_size=128, validation_data=(test_images, test_labels))"
   ]
  },
  {
   "cell_type": "code",
   "execution_count": 13,
   "metadata": {},
   "outputs": [
    {
     "name": "stderr",
     "output_type": "stream",
     "text": [
      "WARNING:absl:You are saving your model as an HDF5 file via `model.save()` or `keras.saving.save_model(model)`. This file format is considered legacy. We recommend using instead the native Keras format, e.g. `model.save('my_model.keras')` or `keras.saving.save_model(model, 'my_model.keras')`. \n"
     ]
    }
   ],
   "source": [
    "Softmax_Classifer_model.save('models/SAE3_softmax.h5')"
   ]
  },
  {
   "cell_type": "code",
   "execution_count": 14,
   "metadata": {},
   "outputs": [
    {
     "data": {
      "image/png": "[encoded data removed]",
      "text/plain": [
       "<Figure size 640x480 with 1 Axes>"
      ]
     },
     "metadata": {},
     "output_type": "display_data"
    }
   ],
   "source": [
    "import matplotlib.pyplot as plt\n",
    "\n",
    "\n",
    "plt.plot(history.history['loss'])\n",
    "plt.plot(history.history['val_loss'])\n",
    "plt.title('SAE3 softmax loss')\n",
    "plt.ylabel('loss')\n",
    "plt.xlabel('epoch')\n",
    "plt.legend(['train', 'test'], loc='upper right')\n",
    "plt.show()"
   ]
  }
 ],
 "metadata": {
  "kernelspec": {
   "display_name": "Python 3",
   "language": "python",
   "name": "python3"
  },
  "language_info": {
   "codemirror_mode": {
    "name": "ipython",
    "version": 3
   },
   "file_extension": ".py",
   "mimetype": "text/x-python",
   "name": "python",
   "nbconvert_exporter": "python",
   "pygments_lexer": "ipython3",
   "version": "3.10.8"
  }
 },
 "nbformat": 4,
 "nbformat_minor": 2
}
