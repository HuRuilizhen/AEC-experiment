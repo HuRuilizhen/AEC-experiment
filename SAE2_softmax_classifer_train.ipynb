{
 "cells": [
  {
   "cell_type": "code",
   "execution_count": 1,
   "metadata": {},
   "outputs": [],
   "source": [
    "from keras.datasets import mnist\n",
    "from keras import models\n",
    "from keras import layers\n",
    "from keras import utils\n",
    "import numpy as np"
   ]
  },
  {
   "cell_type": "code",
   "execution_count": 2,
   "metadata": {},
   "outputs": [
    {
     "data": {
      "text/plain": [
       "((60000, 28, 28), (10000, 28, 28), (60000,), (10000,))"
      ]
     },
     "execution_count": 2,
     "metadata": {},
     "output_type": "execute_result"
    }
   ],
   "source": [
    "(train_images, train_labels), (test_images, test_labels) = mnist.load_data()\n",
    "train_images.shape, test_images.shape, train_labels.shape, test_labels.shape"
   ]
  },
  {
   "cell_type": "code",
   "execution_count": 3,
   "metadata": {},
   "outputs": [
    {
     "data": {
      "text/plain": [
       "((60000, 28, 28), (10000, 28, 28), (60000, 10), (10000, 10))"
      ]
     },
     "execution_count": 3,
     "metadata": {},
     "output_type": "execute_result"
    }
   ],
   "source": [
    "train_images = train_images.astype('float32') / 255\n",
    "test_images = test_images.astype('float32') / 255\n",
    "\n",
    "train_labels = utils.to_categorical(train_labels)\n",
    "test_labels = utils.to_categorical(test_labels)\n",
    "train_images.shape, test_images.shape, train_labels.shape, test_labels.shape"
   ]
  },
  {
   "cell_type": "code",
   "execution_count": 4,
   "metadata": {},
   "outputs": [
    {
     "data": {
      "text/plain": [
       "((60000, 784), (10000, 784), (60000, 10), (10000, 10))"
      ]
     },
     "execution_count": 4,
     "metadata": {},
     "output_type": "execute_result"
    }
   ],
   "source": [
    "train_images = train_images.reshape((len(train_images), np.prod(train_images.shape[1:])))\n",
    "test_images = test_images.reshape((len(test_images), np.prod(test_images.shape[1:])))\n",
    "train_images.shape, test_images.shape, train_labels.shape, test_labels.shape"
   ]
  },
  {
   "cell_type": "code",
   "execution_count": 5,
   "metadata": {},
   "outputs": [],
   "source": [
    "from SAE_model import SAE2"
   ]
  },
  {
   "cell_type": "code",
   "execution_count": 6,
   "metadata": {},
   "outputs": [
    {
     "name": "stderr",
     "output_type": "stream",
     "text": [
      "d:\\Python\\Python310\\lib\\site-packages\\keras\\src\\layers\\core\\input_layer.py:25: UserWarning: Argument `input_shape` is deprecated. Use `shape` instead.\n",
      "  warnings.warn(\n"
     ]
    }
   ],
   "source": [
    "SAE2_model = SAE2(input_dim=784, latent_dim=[150, 75])\n",
    "SAE2_model.load_weights('models/SAE2.h5')"
   ]
  },
  {
   "cell_type": "code",
   "execution_count": 7,
   "metadata": {},
   "outputs": [
    {
     "data": {
      "text/plain": [
       "(TensorShape([60000, 75]), TensorShape([10000, 75]), (60000, 10), (10000, 10))"
      ]
     },
     "execution_count": 7,
     "metadata": {},
     "output_type": "execute_result"
    }
   ],
   "source": [
    "train_images = SAE2_model.encode(train_images)\n",
    "test_images = SAE2_model.encode(test_images)\n",
    "train_images.shape, test_images.shape, train_labels.shape, test_labels.shape"
   ]
  },
  {
   "cell_type": "code",
   "execution_count": 9,
   "metadata": {},
   "outputs": [],
   "source": [
    "from classifer_model import Softmax_Classifer\n",
    "from keras import optimizers\n",
    "from keras import losses\n",
    "from keras import metrics"
   ]
  },
  {
   "cell_type": "code",
   "execution_count": 10,
   "metadata": {},
   "outputs": [
    {
     "name": "stderr",
     "output_type": "stream",
     "text": [
      "d:\\Python\\Python310\\lib\\site-packages\\keras\\src\\layers\\core\\input_layer.py:25: UserWarning: Argument `input_shape` is deprecated. Use `shape` instead.\n",
      "  warnings.warn(\n"
     ]
    }
   ],
   "source": [
    "Softmax_Classifer_model = Softmax_Classifer(input_dim=75, output_dim=10)\n",
    "Softmax_Classifer_model.compile(\n",
    "    optimizer=optimizers.Adam(),\n",
    "    loss=losses.CategoricalCrossentropy(),\n",
    "    metrics=[metrics.CategoricalAccuracy()]\n",
    ")"
   ]
  },
  {
   "cell_type": "code",
   "execution_count": 11,
   "metadata": {},
   "outputs": [
    {
     "name": "stdout",
     "output_type": "stream",
     "text": [
      "Epoch 1/150\n",
      "\u001b[1m469/469\u001b[0m \u001b[32m━━━━━━━━━━━━━━━━━━━━\u001b[0m\u001b[37m\u001b[0m \u001b[1m1s\u001b[0m 1ms/step - categorical_accuracy: 0.2691 - loss: 2.2198 - val_categorical_accuracy: 0.6992 - val_loss: 1.7846\n",
      "Epoch 2/150\n",
      "\u001b[1m469/469\u001b[0m \u001b[32m━━━━━━━━━━━━━━━━━━━━\u001b[0m\u001b[37m\u001b[0m \u001b[1m0s\u001b[0m 779us/step - categorical_accuracy: 0.7128 - loss: 1.6837 - val_categorical_accuracy: 0.7892 - val_loss: 1.3869\n",
      "Epoch 3/150\n",
      "\u001b[1m469/469\u001b[0m \u001b[32m━━━━━━━━━━━━━━━━━━━━\u001b[0m\u001b[37m\u001b[0m \u001b[1m0s\u001b[0m 731us/step - categorical_accuracy: 0.7943 - loss: 1.3231 - val_categorical_accuracy: 0.8239 - val_loss: 1.1218\n",
      "Epoch 4/150\n",
      "\u001b[1m469/469\u001b[0m \u001b[32m━━━━━━━━━━━━━━━━━━━━\u001b[0m\u001b[37m\u001b[0m \u001b[1m0s\u001b[0m 730us/step - categorical_accuracy: 0.8225 - loss: 1.0899 - val_categorical_accuracy: 0.8399 - val_loss: 0.9447\n",
      "Epoch 5/150\n",
      "\u001b[1m469/469\u001b[0m \u001b[32m━━━━━━━━━━━━━━━━━━━━\u001b[0m\u001b[37m\u001b[0m \u001b[1m0s\u001b[0m 735us/step - categorical_accuracy: 0.8378 - loss: 0.9258 - val_categorical_accuracy: 0.8519 - val_loss: 0.8221\n",
      "Epoch 6/150\n",
      "\u001b[1m469/469\u001b[0m \u001b[32m━━━━━━━━━━━━━━━━━━━━\u001b[0m\u001b[37m\u001b[0m \u001b[1m0s\u001b[0m 797us/step - categorical_accuracy: 0.8480 - loss: 0.8133 - val_categorical_accuracy: 0.8604 - val_loss: 0.7346\n",
      "Epoch 7/150\n",
      "\u001b[1m469/469\u001b[0m \u001b[32m━━━━━━━━━━━━━━━━━━━━\u001b[0m\u001b[37m\u001b[0m \u001b[1m0s\u001b[0m 737us/step - categorical_accuracy: 0.8556 - loss: 0.7309 - val_categorical_accuracy: 0.8675 - val_loss: 0.6683\n",
      "Epoch 8/150\n",
      "\u001b[1m469/469\u001b[0m \u001b[32m━━━━━━━━━━━━━━━━━━━━\u001b[0m\u001b[37m\u001b[0m \u001b[1m0s\u001b[0m 732us/step - categorical_accuracy: 0.8591 - loss: 0.6735 - val_categorical_accuracy: 0.8677 - val_loss: 0.6184\n",
      "Epoch 9/150\n",
      "\u001b[1m469/469\u001b[0m \u001b[32m━━━━━━━━━━━━━━━━━━━━\u001b[0m\u001b[37m\u001b[0m \u001b[1m0s\u001b[0m 714us/step - categorical_accuracy: 0.8627 - loss: 0.6253 - val_categorical_accuracy: 0.8732 - val_loss: 0.5786\n",
      "Epoch 10/150\n",
      "\u001b[1m469/469\u001b[0m \u001b[32m━━━━━━━━━━━━━━━━━━━━\u001b[0m\u001b[37m\u001b[0m \u001b[1m0s\u001b[0m 715us/step - categorical_accuracy: 0.8664 - loss: 0.5900 - val_categorical_accuracy: 0.8780 - val_loss: 0.5459\n",
      "Epoch 11/150\n",
      "\u001b[1m469/469\u001b[0m \u001b[32m━━━━━━━━━━━━━━━━━━━━\u001b[0m\u001b[37m\u001b[0m \u001b[1m0s\u001b[0m 702us/step - categorical_accuracy: 0.8711 - loss: 0.5519 - val_categorical_accuracy: 0.8794 - val_loss: 0.5201\n",
      "Epoch 12/150\n",
      "\u001b[1m469/469\u001b[0m \u001b[32m━━━━━━━━━━━━━━━━━━━━\u001b[0m\u001b[37m\u001b[0m \u001b[1m0s\u001b[0m 759us/step - categorical_accuracy: 0.8734 - loss: 0.5286 - val_categorical_accuracy: 0.8847 - val_loss: 0.4976\n",
      "Epoch 13/150\n",
      "\u001b[1m469/469\u001b[0m \u001b[32m━━━━━━━━━━━━━━━━━━━━\u001b[0m\u001b[37m\u001b[0m \u001b[1m0s\u001b[0m 709us/step - categorical_accuracy: 0.8722 - loss: 0.5124 - val_categorical_accuracy: 0.8847 - val_loss: 0.4801\n",
      "Epoch 14/150\n",
      "\u001b[1m469/469\u001b[0m \u001b[32m━━━━━━━━━━━━━━━━━━━━\u001b[0m\u001b[37m\u001b[0m \u001b[1m0s\u001b[0m 717us/step - categorical_accuracy: 0.8765 - loss: 0.4914 - val_categorical_accuracy: 0.8875 - val_loss: 0.4639\n",
      "Epoch 15/150\n",
      "\u001b[1m469/469\u001b[0m \u001b[32m━━━━━━━━━━━━━━━━━━━━\u001b[0m\u001b[37m\u001b[0m \u001b[1m0s\u001b[0m 697us/step - categorical_accuracy: 0.8823 - loss: 0.4721 - val_categorical_accuracy: 0.8904 - val_loss: 0.4499\n",
      "Epoch 16/150\n",
      "\u001b[1m469/469\u001b[0m \u001b[32m━━━━━━━━━━━━━━━━━━━━\u001b[0m\u001b[37m\u001b[0m \u001b[1m0s\u001b[0m 700us/step - categorical_accuracy: 0.8807 - loss: 0.4665 - val_categorical_accuracy: 0.8908 - val_loss: 0.4385\n",
      "Epoch 17/150\n",
      "\u001b[1m469/469\u001b[0m \u001b[32m━━━━━━━━━━━━━━━━━━━━\u001b[0m\u001b[37m\u001b[0m \u001b[1m0s\u001b[0m 702us/step - categorical_accuracy: 0.8831 - loss: 0.4497 - val_categorical_accuracy: 0.8923 - val_loss: 0.4280\n",
      "Epoch 18/150\n",
      "\u001b[1m469/469\u001b[0m \u001b[32m━━━━━━━━━━━━━━━━━━━━\u001b[0m\u001b[37m\u001b[0m \u001b[1m0s\u001b[0m 712us/step - categorical_accuracy: 0.8823 - loss: 0.4449 - val_categorical_accuracy: 0.8938 - val_loss: 0.4193\n",
      "Epoch 19/150\n",
      "\u001b[1m469/469\u001b[0m \u001b[32m━━━━━━━━━━━━━━━━━━━━\u001b[0m\u001b[37m\u001b[0m \u001b[1m0s\u001b[0m 728us/step - categorical_accuracy: 0.8845 - loss: 0.4360 - val_categorical_accuracy: 0.8955 - val_loss: 0.4107\n",
      "Epoch 20/150\n",
      "\u001b[1m469/469\u001b[0m \u001b[32m━━━━━━━━━━━━━━━━━━━━\u001b[0m\u001b[37m\u001b[0m \u001b[1m0s\u001b[0m 708us/step - categorical_accuracy: 0.8868 - loss: 0.4246 - val_categorical_accuracy: 0.8958 - val_loss: 0.4041\n",
      "Epoch 21/150\n",
      "\u001b[1m469/469\u001b[0m \u001b[32m━━━━━━━━━━━━━━━━━━━━\u001b[0m\u001b[37m\u001b[0m \u001b[1m0s\u001b[0m 715us/step - categorical_accuracy: 0.8904 - loss: 0.4133 - val_categorical_accuracy: 0.8974 - val_loss: 0.3966\n",
      "Epoch 22/150\n",
      "\u001b[1m469/469\u001b[0m \u001b[32m━━━━━━━━━━━━━━━━━━━━\u001b[0m\u001b[37m\u001b[0m \u001b[1m0s\u001b[0m 721us/step - categorical_accuracy: 0.8909 - loss: 0.4092 - val_categorical_accuracy: 0.8981 - val_loss: 0.3924\n",
      "Epoch 23/150\n",
      "\u001b[1m469/469\u001b[0m \u001b[32m━━━━━━━━━━━━━━━━━━━━\u001b[0m\u001b[37m\u001b[0m \u001b[1m0s\u001b[0m 711us/step - categorical_accuracy: 0.8891 - loss: 0.4053 - val_categorical_accuracy: 0.8992 - val_loss: 0.3850\n",
      "Epoch 24/150\n",
      "\u001b[1m469/469\u001b[0m \u001b[32m━━━━━━━━━━━━━━━━━━━━\u001b[0m\u001b[37m\u001b[0m \u001b[1m0s\u001b[0m 717us/step - categorical_accuracy: 0.8911 - loss: 0.3953 - val_categorical_accuracy: 0.8985 - val_loss: 0.3807\n",
      "Epoch 25/150\n",
      "\u001b[1m469/469\u001b[0m \u001b[32m━━━━━━━━━━━━━━━━━━━━\u001b[0m\u001b[37m\u001b[0m \u001b[1m0s\u001b[0m 709us/step - categorical_accuracy: 0.8929 - loss: 0.3912 - val_categorical_accuracy: 0.9003 - val_loss: 0.3748\n",
      "Epoch 26/150\n",
      "\u001b[1m469/469\u001b[0m \u001b[32m━━━━━━━━━━━━━━━━━━━━\u001b[0m\u001b[37m\u001b[0m \u001b[1m0s\u001b[0m 729us/step - categorical_accuracy: 0.8923 - loss: 0.3910 - val_categorical_accuracy: 0.9004 - val_loss: 0.3726\n",
      "Epoch 27/150\n",
      "\u001b[1m469/469\u001b[0m \u001b[32m━━━━━━━━━━━━━━━━━━━━\u001b[0m\u001b[37m\u001b[0m \u001b[1m0s\u001b[0m 780us/step - categorical_accuracy: 0.8922 - loss: 0.3871 - val_categorical_accuracy: 0.9012 - val_loss: 0.3680\n",
      "Epoch 28/150\n",
      "\u001b[1m469/469\u001b[0m \u001b[32m━━━━━━━━━━━━━━━━━━━━\u001b[0m\u001b[37m\u001b[0m \u001b[1m0s\u001b[0m 715us/step - categorical_accuracy: 0.8923 - loss: 0.3838 - val_categorical_accuracy: 0.9025 - val_loss: 0.3644\n",
      "Epoch 29/150\n",
      "\u001b[1m469/469\u001b[0m \u001b[32m━━━━━━━━━━━━━━━━━━━━\u001b[0m\u001b[37m\u001b[0m \u001b[1m0s\u001b[0m 713us/step - categorical_accuracy: 0.8943 - loss: 0.3767 - val_categorical_accuracy: 0.9026 - val_loss: 0.3609\n",
      "Epoch 30/150\n",
      "\u001b[1m469/469\u001b[0m \u001b[32m━━━━━━━━━━━━━━━━━━━━\u001b[0m\u001b[37m\u001b[0m \u001b[1m0s\u001b[0m 718us/step - categorical_accuracy: 0.8934 - loss: 0.3755 - val_categorical_accuracy: 0.9027 - val_loss: 0.3578\n",
      "Epoch 31/150\n",
      "\u001b[1m469/469\u001b[0m \u001b[32m━━━━━━━━━━━━━━━━━━━━\u001b[0m\u001b[37m\u001b[0m \u001b[1m0s\u001b[0m 720us/step - categorical_accuracy: 0.8968 - loss: 0.3709 - val_categorical_accuracy: 0.9042 - val_loss: 0.3556\n",
      "Epoch 32/150\n",
      "\u001b[1m469/469\u001b[0m \u001b[32m━━━━━━━━━━━━━━━━━━━━\u001b[0m\u001b[37m\u001b[0m \u001b[1m0s\u001b[0m 709us/step - categorical_accuracy: 0.8964 - loss: 0.3693 - val_categorical_accuracy: 0.9032 - val_loss: 0.3530\n",
      "Epoch 33/150\n",
      "\u001b[1m469/469\u001b[0m \u001b[32m━━━━━━━━━━━━━━━━━━━━\u001b[0m\u001b[37m\u001b[0m \u001b[1m0s\u001b[0m 704us/step - categorical_accuracy: 0.8981 - loss: 0.3641 - val_categorical_accuracy: 0.9046 - val_loss: 0.3491\n",
      "Epoch 34/150\n",
      "\u001b[1m469/469\u001b[0m \u001b[32m━━━━━━━━━━━━━━━━━━━━\u001b[0m\u001b[37m\u001b[0m \u001b[1m0s\u001b[0m 745us/step - categorical_accuracy: 0.8966 - loss: 0.3676 - val_categorical_accuracy: 0.9052 - val_loss: 0.3471\n",
      "Epoch 35/150\n",
      "\u001b[1m469/469\u001b[0m \u001b[32m━━━━━━━━━━━━━━━━━━━━\u001b[0m\u001b[37m\u001b[0m \u001b[1m0s\u001b[0m 721us/step - categorical_accuracy: 0.8966 - loss: 0.3629 - val_categorical_accuracy: 0.9067 - val_loss: 0.3442\n",
      "Epoch 36/150\n",
      "\u001b[1m469/469\u001b[0m \u001b[32m━━━━━━━━━━━━━━━━━━━━\u001b[0m\u001b[37m\u001b[0m \u001b[1m0s\u001b[0m 715us/step - categorical_accuracy: 0.8972 - loss: 0.3625 - val_categorical_accuracy: 0.9060 - val_loss: 0.3423\n",
      "Epoch 37/150\n",
      "\u001b[1m469/469\u001b[0m \u001b[32m━━━━━━━━━━━━━━━━━━━━\u001b[0m\u001b[37m\u001b[0m \u001b[1m0s\u001b[0m 719us/step - categorical_accuracy: 0.8970 - loss: 0.3608 - val_categorical_accuracy: 0.9061 - val_loss: 0.3408\n",
      "Epoch 38/150\n",
      "\u001b[1m469/469\u001b[0m \u001b[32m━━━━━━━━━━━━━━━━━━━━\u001b[0m\u001b[37m\u001b[0m \u001b[1m0s\u001b[0m 701us/step - categorical_accuracy: 0.9015 - loss: 0.3512 - val_categorical_accuracy: 0.9072 - val_loss: 0.3388\n",
      "Epoch 39/150\n",
      "\u001b[1m469/469\u001b[0m \u001b[32m━━━━━━━━━━━━━━━━━━━━\u001b[0m\u001b[37m\u001b[0m \u001b[1m0s\u001b[0m 710us/step - categorical_accuracy: 0.8974 - loss: 0.3584 - val_categorical_accuracy: 0.9076 - val_loss: 0.3364\n",
      "Epoch 40/150\n",
      "\u001b[1m469/469\u001b[0m \u001b[32m━━━━━━━━━━━━━━━━━━━━\u001b[0m\u001b[37m\u001b[0m \u001b[1m0s\u001b[0m 715us/step - categorical_accuracy: 0.8989 - loss: 0.3521 - val_categorical_accuracy: 0.9061 - val_loss: 0.3372\n",
      "Epoch 41/150\n",
      "\u001b[1m469/469\u001b[0m \u001b[32m━━━━━━━━━━━━━━━━━━━━\u001b[0m\u001b[37m\u001b[0m \u001b[1m0s\u001b[0m 739us/step - categorical_accuracy: 0.9015 - loss: 0.3481 - val_categorical_accuracy: 0.9076 - val_loss: 0.3331\n",
      "Epoch 42/150\n",
      "\u001b[1m469/469\u001b[0m \u001b[32m━━━━━━━━━━━━━━━━━━━━\u001b[0m\u001b[37m\u001b[0m \u001b[1m0s\u001b[0m 719us/step - categorical_accuracy: 0.8990 - loss: 0.3543 - val_categorical_accuracy: 0.9080 - val_loss: 0.3317\n",
      "Epoch 43/150\n",
      "\u001b[1m469/469\u001b[0m \u001b[32m━━━━━━━━━━━━━━━━━━━━\u001b[0m\u001b[37m\u001b[0m \u001b[1m0s\u001b[0m 700us/step - categorical_accuracy: 0.8979 - loss: 0.3497 - val_categorical_accuracy: 0.9073 - val_loss: 0.3321\n",
      "Epoch 44/150\n",
      "\u001b[1m469/469\u001b[0m \u001b[32m━━━━━━━━━━━━━━━━━━━━\u001b[0m\u001b[37m\u001b[0m \u001b[1m0s\u001b[0m 707us/step - categorical_accuracy: 0.9016 - loss: 0.3441 - val_categorical_accuracy: 0.9082 - val_loss: 0.3288\n",
      "Epoch 45/150\n",
      "\u001b[1m469/469\u001b[0m \u001b[32m━━━━━━━━━━━━━━━━━━━━\u001b[0m\u001b[37m\u001b[0m \u001b[1m0s\u001b[0m 707us/step - categorical_accuracy: 0.9025 - loss: 0.3387 - val_categorical_accuracy: 0.9095 - val_loss: 0.3270\n",
      "Epoch 46/150\n",
      "\u001b[1m469/469\u001b[0m \u001b[32m━━━━━━━━━━━━━━━━━━━━\u001b[0m\u001b[37m\u001b[0m \u001b[1m0s\u001b[0m 705us/step - categorical_accuracy: 0.9029 - loss: 0.3380 - val_categorical_accuracy: 0.9089 - val_loss: 0.3268\n",
      "Epoch 47/150\n",
      "\u001b[1m469/469\u001b[0m \u001b[32m━━━━━━━━━━━━━━━━━━━━\u001b[0m\u001b[37m\u001b[0m \u001b[1m0s\u001b[0m 720us/step - categorical_accuracy: 0.9029 - loss: 0.3385 - val_categorical_accuracy: 0.9093 - val_loss: 0.3243\n",
      "Epoch 48/150\n",
      "\u001b[1m469/469\u001b[0m \u001b[32m━━━━━━━━━━━━━━━━━━━━\u001b[0m\u001b[37m\u001b[0m \u001b[1m0s\u001b[0m 717us/step - categorical_accuracy: 0.9018 - loss: 0.3392 - val_categorical_accuracy: 0.9091 - val_loss: 0.3236\n",
      "Epoch 49/150\n",
      "\u001b[1m469/469\u001b[0m \u001b[32m━━━━━━━━━━━━━━━━━━━━\u001b[0m\u001b[37m\u001b[0m \u001b[1m0s\u001b[0m 706us/step - categorical_accuracy: 0.9030 - loss: 0.3392 - val_categorical_accuracy: 0.9094 - val_loss: 0.3241\n",
      "Epoch 50/150\n",
      "\u001b[1m469/469\u001b[0m \u001b[32m━━━━━━━━━━━━━━━━━━━━\u001b[0m\u001b[37m\u001b[0m \u001b[1m0s\u001b[0m 713us/step - categorical_accuracy: 0.9038 - loss: 0.3328 - val_categorical_accuracy: 0.9094 - val_loss: 0.3225\n",
      "Epoch 51/150\n",
      "\u001b[1m469/469\u001b[0m \u001b[32m━━━━━━━━━━━━━━━━━━━━\u001b[0m\u001b[37m\u001b[0m \u001b[1m0s\u001b[0m 713us/step - categorical_accuracy: 0.9051 - loss: 0.3294 - val_categorical_accuracy: 0.9092 - val_loss: 0.3208\n",
      "Epoch 52/150\n",
      "\u001b[1m469/469\u001b[0m \u001b[32m━━━━━━━━━━━━━━━━━━━━\u001b[0m\u001b[37m\u001b[0m \u001b[1m0s\u001b[0m 710us/step - categorical_accuracy: 0.9023 - loss: 0.3375 - val_categorical_accuracy: 0.9104 - val_loss: 0.3199\n",
      "Epoch 53/150\n",
      "\u001b[1m469/469\u001b[0m \u001b[32m━━━━━━━━━━━━━━━━━━━━\u001b[0m\u001b[37m\u001b[0m \u001b[1m0s\u001b[0m 705us/step - categorical_accuracy: 0.9049 - loss: 0.3308 - val_categorical_accuracy: 0.9105 - val_loss: 0.3191\n",
      "Epoch 54/150\n",
      "\u001b[1m469/469\u001b[0m \u001b[32m━━━━━━━━━━━━━━━━━━━━\u001b[0m\u001b[37m\u001b[0m \u001b[1m0s\u001b[0m 729us/step - categorical_accuracy: 0.9024 - loss: 0.3334 - val_categorical_accuracy: 0.9109 - val_loss: 0.3171\n",
      "Epoch 55/150\n",
      "\u001b[1m469/469\u001b[0m \u001b[32m━━━━━━━━━━━━━━━━━━━━\u001b[0m\u001b[37m\u001b[0m \u001b[1m0s\u001b[0m 719us/step - categorical_accuracy: 0.9051 - loss: 0.3289 - val_categorical_accuracy: 0.9095 - val_loss: 0.3181\n",
      "Epoch 56/150\n",
      "\u001b[1m469/469\u001b[0m \u001b[32m━━━━━━━━━━━━━━━━━━━━\u001b[0m\u001b[37m\u001b[0m \u001b[1m0s\u001b[0m 718us/step - categorical_accuracy: 0.9039 - loss: 0.3310 - val_categorical_accuracy: 0.9110 - val_loss: 0.3153\n",
      "Epoch 57/150\n",
      "\u001b[1m469/469\u001b[0m \u001b[32m━━━━━━━━━━━━━━━━━━━━\u001b[0m\u001b[37m\u001b[0m \u001b[1m0s\u001b[0m 708us/step - categorical_accuracy: 0.9032 - loss: 0.3271 - val_categorical_accuracy: 0.9105 - val_loss: 0.3153\n",
      "Epoch 58/150\n",
      "\u001b[1m469/469\u001b[0m \u001b[32m━━━━━━━━━━━━━━━━━━━━\u001b[0m\u001b[37m\u001b[0m \u001b[1m0s\u001b[0m 716us/step - categorical_accuracy: 0.9041 - loss: 0.3300 - val_categorical_accuracy: 0.9115 - val_loss: 0.3138\n",
      "Epoch 59/150\n",
      "\u001b[1m469/469\u001b[0m \u001b[32m━━━━━━━━━━━━━━━━━━━━\u001b[0m\u001b[37m\u001b[0m \u001b[1m0s\u001b[0m 713us/step - categorical_accuracy: 0.9035 - loss: 0.3320 - val_categorical_accuracy: 0.9116 - val_loss: 0.3128\n",
      "Epoch 60/150\n",
      "\u001b[1m469/469\u001b[0m \u001b[32m━━━━━━━━━━━━━━━━━━━━\u001b[0m\u001b[37m\u001b[0m \u001b[1m0s\u001b[0m 726us/step - categorical_accuracy: 0.9059 - loss: 0.3231 - val_categorical_accuracy: 0.9110 - val_loss: 0.3135\n",
      "Epoch 61/150\n",
      "\u001b[1m469/469\u001b[0m \u001b[32m━━━━━━━━━━━━━━━━━━━━\u001b[0m\u001b[37m\u001b[0m \u001b[1m0s\u001b[0m 711us/step - categorical_accuracy: 0.9046 - loss: 0.3283 - val_categorical_accuracy: 0.9116 - val_loss: 0.3111\n",
      "Epoch 62/150\n",
      "\u001b[1m469/469\u001b[0m \u001b[32m━━━━━━━━━━━━━━━━━━━━\u001b[0m\u001b[37m\u001b[0m \u001b[1m0s\u001b[0m 709us/step - categorical_accuracy: 0.9075 - loss: 0.3232 - val_categorical_accuracy: 0.9115 - val_loss: 0.3121\n",
      "Epoch 63/150\n",
      "\u001b[1m469/469\u001b[0m \u001b[32m━━━━━━━━━━━━━━━━━━━━\u001b[0m\u001b[37m\u001b[0m \u001b[1m0s\u001b[0m 728us/step - categorical_accuracy: 0.9050 - loss: 0.3278 - val_categorical_accuracy: 0.9122 - val_loss: 0.3111\n",
      "Epoch 64/150\n",
      "\u001b[1m469/469\u001b[0m \u001b[32m━━━━━━━━━━━━━━━━━━━━\u001b[0m\u001b[37m\u001b[0m \u001b[1m0s\u001b[0m 729us/step - categorical_accuracy: 0.9058 - loss: 0.3203 - val_categorical_accuracy: 0.9114 - val_loss: 0.3110\n",
      "Epoch 65/150\n",
      "\u001b[1m469/469\u001b[0m \u001b[32m━━━━━━━━━━━━━━━━━━━━\u001b[0m\u001b[37m\u001b[0m \u001b[1m0s\u001b[0m 704us/step - categorical_accuracy: 0.9064 - loss: 0.3194 - val_categorical_accuracy: 0.9123 - val_loss: 0.3108\n",
      "Epoch 66/150\n",
      "\u001b[1m469/469\u001b[0m \u001b[32m━━━━━━━━━━━━━━━━━━━━\u001b[0m\u001b[37m\u001b[0m \u001b[1m0s\u001b[0m 745us/step - categorical_accuracy: 0.9088 - loss: 0.3174 - val_categorical_accuracy: 0.9115 - val_loss: 0.3099\n",
      "Epoch 67/150\n",
      "\u001b[1m469/469\u001b[0m \u001b[32m━━━━━━━━━━━━━━━━━━━━\u001b[0m\u001b[37m\u001b[0m \u001b[1m0s\u001b[0m 722us/step - categorical_accuracy: 0.9068 - loss: 0.3239 - val_categorical_accuracy: 0.9127 - val_loss: 0.3077\n",
      "Epoch 68/150\n",
      "\u001b[1m469/469\u001b[0m \u001b[32m━━━━━━━━━━━━━━━━━━━━\u001b[0m\u001b[37m\u001b[0m \u001b[1m0s\u001b[0m 715us/step - categorical_accuracy: 0.9093 - loss: 0.3128 - val_categorical_accuracy: 0.9125 - val_loss: 0.3069\n",
      "Epoch 69/150\n",
      "\u001b[1m469/469\u001b[0m \u001b[32m━━━━━━━━━━━━━━━━━━━━\u001b[0m\u001b[37m\u001b[0m \u001b[1m0s\u001b[0m 719us/step - categorical_accuracy: 0.9074 - loss: 0.3192 - val_categorical_accuracy: 0.9122 - val_loss: 0.3078\n",
      "Epoch 70/150\n",
      "\u001b[1m469/469\u001b[0m \u001b[32m━━━━━━━━━━━━━━━━━━━━\u001b[0m\u001b[37m\u001b[0m \u001b[1m0s\u001b[0m 722us/step - categorical_accuracy: 0.9072 - loss: 0.3204 - val_categorical_accuracy: 0.9123 - val_loss: 0.3070\n",
      "Epoch 71/150\n",
      "\u001b[1m469/469\u001b[0m \u001b[32m━━━━━━━━━━━━━━━━━━━━\u001b[0m\u001b[37m\u001b[0m \u001b[1m0s\u001b[0m 714us/step - categorical_accuracy: 0.9054 - loss: 0.3215 - val_categorical_accuracy: 0.9124 - val_loss: 0.3063\n",
      "Epoch 72/150\n",
      "\u001b[1m469/469\u001b[0m \u001b[32m━━━━━━━━━━━━━━━━━━━━\u001b[0m\u001b[37m\u001b[0m \u001b[1m0s\u001b[0m 755us/step - categorical_accuracy: 0.9084 - loss: 0.3154 - val_categorical_accuracy: 0.9120 - val_loss: 0.3060\n",
      "Epoch 73/150\n",
      "\u001b[1m469/469\u001b[0m \u001b[32m━━━━━━━━━━━━━━━━━━━━\u001b[0m\u001b[37m\u001b[0m \u001b[1m0s\u001b[0m 710us/step - categorical_accuracy: 0.9087 - loss: 0.3134 - val_categorical_accuracy: 0.9127 - val_loss: 0.3046\n",
      "Epoch 74/150\n",
      "\u001b[1m469/469\u001b[0m \u001b[32m━━━━━━━━━━━━━━━━━━━━\u001b[0m\u001b[37m\u001b[0m \u001b[1m0s\u001b[0m 714us/step - categorical_accuracy: 0.9083 - loss: 0.3122 - val_categorical_accuracy: 0.9120 - val_loss: 0.3049\n",
      "Epoch 75/150\n",
      "\u001b[1m469/469\u001b[0m \u001b[32m━━━━━━━━━━━━━━━━━━━━\u001b[0m\u001b[37m\u001b[0m \u001b[1m0s\u001b[0m 725us/step - categorical_accuracy: 0.9073 - loss: 0.3191 - val_categorical_accuracy: 0.9126 - val_loss: 0.3051\n",
      "Epoch 76/150\n",
      "\u001b[1m469/469\u001b[0m \u001b[32m━━━━━━━━━━━━━━━━━━━━\u001b[0m\u001b[37m\u001b[0m \u001b[1m0s\u001b[0m 719us/step - categorical_accuracy: 0.9087 - loss: 0.3122 - val_categorical_accuracy: 0.9131 - val_loss: 0.3035\n",
      "Epoch 77/150\n",
      "\u001b[1m469/469\u001b[0m \u001b[32m━━━━━━━━━━━━━━━━━━━━\u001b[0m\u001b[37m\u001b[0m \u001b[1m0s\u001b[0m 716us/step - categorical_accuracy: 0.9080 - loss: 0.3137 - val_categorical_accuracy: 0.9138 - val_loss: 0.3023\n",
      "Epoch 78/150\n",
      "\u001b[1m469/469\u001b[0m \u001b[32m━━━━━━━━━━━━━━━━━━━━\u001b[0m\u001b[37m\u001b[0m \u001b[1m0s\u001b[0m 734us/step - categorical_accuracy: 0.9070 - loss: 0.3146 - val_categorical_accuracy: 0.9129 - val_loss: 0.3036\n",
      "Epoch 79/150\n",
      "\u001b[1m469/469\u001b[0m \u001b[32m━━━━━━━━━━━━━━━━━━━━\u001b[0m\u001b[37m\u001b[0m \u001b[1m0s\u001b[0m 709us/step - categorical_accuracy: 0.9099 - loss: 0.3091 - val_categorical_accuracy: 0.9127 - val_loss: 0.3026\n",
      "Epoch 80/150\n",
      "\u001b[1m469/469\u001b[0m \u001b[32m━━━━━━━━━━━━━━━━━━━━\u001b[0m\u001b[37m\u001b[0m \u001b[1m0s\u001b[0m 727us/step - categorical_accuracy: 0.9081 - loss: 0.3170 - val_categorical_accuracy: 0.9142 - val_loss: 0.3017\n",
      "Epoch 81/150\n",
      "\u001b[1m469/469\u001b[0m \u001b[32m━━━━━━━━━━━━━━━━━━━━\u001b[0m\u001b[37m\u001b[0m \u001b[1m0s\u001b[0m 708us/step - categorical_accuracy: 0.9087 - loss: 0.3113 - val_categorical_accuracy: 0.9150 - val_loss: 0.3007\n",
      "Epoch 82/150\n",
      "\u001b[1m469/469\u001b[0m \u001b[32m━━━━━━━━━━━━━━━━━━━━\u001b[0m\u001b[37m\u001b[0m \u001b[1m0s\u001b[0m 721us/step - categorical_accuracy: 0.9064 - loss: 0.3169 - val_categorical_accuracy: 0.9141 - val_loss: 0.3000\n",
      "Epoch 83/150\n",
      "\u001b[1m469/469\u001b[0m \u001b[32m━━━━━━━━━━━━━━━━━━━━\u001b[0m\u001b[37m\u001b[0m \u001b[1m0s\u001b[0m 730us/step - categorical_accuracy: 0.9075 - loss: 0.3133 - val_categorical_accuracy: 0.9140 - val_loss: 0.3012\n",
      "Epoch 84/150\n",
      "\u001b[1m469/469\u001b[0m \u001b[32m━━━━━━━━━━━━━━━━━━━━\u001b[0m\u001b[37m\u001b[0m \u001b[1m0s\u001b[0m 739us/step - categorical_accuracy: 0.9086 - loss: 0.3123 - val_categorical_accuracy: 0.9137 - val_loss: 0.2997\n",
      "Epoch 85/150\n",
      "\u001b[1m469/469\u001b[0m \u001b[32m━━━━━━━━━━━━━━━━━━━━\u001b[0m\u001b[37m\u001b[0m \u001b[1m0s\u001b[0m 708us/step - categorical_accuracy: 0.9099 - loss: 0.3058 - val_categorical_accuracy: 0.9150 - val_loss: 0.2986\n",
      "Epoch 86/150\n",
      "\u001b[1m469/469\u001b[0m \u001b[32m━━━━━━━━━━━━━━━━━━━━\u001b[0m\u001b[37m\u001b[0m \u001b[1m0s\u001b[0m 716us/step - categorical_accuracy: 0.9077 - loss: 0.3160 - val_categorical_accuracy: 0.9140 - val_loss: 0.2997\n",
      "Epoch 87/150\n",
      "\u001b[1m469/469\u001b[0m \u001b[32m━━━━━━━━━━━━━━━━━━━━\u001b[0m\u001b[37m\u001b[0m \u001b[1m0s\u001b[0m 713us/step - categorical_accuracy: 0.9090 - loss: 0.3077 - val_categorical_accuracy: 0.9150 - val_loss: 0.2980\n",
      "Epoch 88/150\n",
      "\u001b[1m469/469\u001b[0m \u001b[32m━━━━━━━━━━━━━━━━━━━━\u001b[0m\u001b[37m\u001b[0m \u001b[1m0s\u001b[0m 715us/step - categorical_accuracy: 0.9072 - loss: 0.3119 - val_categorical_accuracy: 0.9138 - val_loss: 0.2981\n",
      "Epoch 89/150\n",
      "\u001b[1m469/469\u001b[0m \u001b[32m━━━━━━━━━━━━━━━━━━━━\u001b[0m\u001b[37m\u001b[0m \u001b[1m0s\u001b[0m 738us/step - categorical_accuracy: 0.9084 - loss: 0.3093 - val_categorical_accuracy: 0.9143 - val_loss: 0.2992\n",
      "Epoch 90/150\n",
      "\u001b[1m469/469\u001b[0m \u001b[32m━━━━━━━━━━━━━━━━━━━━\u001b[0m\u001b[37m\u001b[0m \u001b[1m0s\u001b[0m 706us/step - categorical_accuracy: 0.9081 - loss: 0.3076 - val_categorical_accuracy: 0.9147 - val_loss: 0.2974\n",
      "Epoch 91/150\n",
      "\u001b[1m469/469\u001b[0m \u001b[32m━━━━━━━━━━━━━━━━━━━━\u001b[0m\u001b[37m\u001b[0m \u001b[1m0s\u001b[0m 721us/step - categorical_accuracy: 0.9095 - loss: 0.3063 - val_categorical_accuracy: 0.9155 - val_loss: 0.2970\n",
      "Epoch 92/150\n",
      "\u001b[1m469/469\u001b[0m \u001b[32m━━━━━━━━━━━━━━━━━━━━\u001b[0m\u001b[37m\u001b[0m \u001b[1m0s\u001b[0m 708us/step - categorical_accuracy: 0.9088 - loss: 0.3077 - val_categorical_accuracy: 0.9138 - val_loss: 0.2982\n",
      "Epoch 93/150\n",
      "\u001b[1m469/469\u001b[0m \u001b[32m━━━━━━━━━━━━━━━━━━━━\u001b[0m\u001b[37m\u001b[0m \u001b[1m0s\u001b[0m 709us/step - categorical_accuracy: 0.9103 - loss: 0.3057 - val_categorical_accuracy: 0.9147 - val_loss: 0.2966\n",
      "Epoch 94/150\n",
      "\u001b[1m469/469\u001b[0m \u001b[32m━━━━━━━━━━━━━━━━━━━━\u001b[0m\u001b[37m\u001b[0m \u001b[1m0s\u001b[0m 726us/step - categorical_accuracy: 0.9082 - loss: 0.3125 - val_categorical_accuracy: 0.9145 - val_loss: 0.2968\n",
      "Epoch 95/150\n",
      "\u001b[1m469/469\u001b[0m \u001b[32m━━━━━━━━━━━━━━━━━━━━\u001b[0m\u001b[37m\u001b[0m \u001b[1m0s\u001b[0m 734us/step - categorical_accuracy: 0.9102 - loss: 0.3021 - val_categorical_accuracy: 0.9155 - val_loss: 0.2961\n",
      "Epoch 96/150\n",
      "\u001b[1m469/469\u001b[0m \u001b[32m━━━━━━━━━━━━━━━━━━━━\u001b[0m\u001b[37m\u001b[0m \u001b[1m0s\u001b[0m 709us/step - categorical_accuracy: 0.9095 - loss: 0.3072 - val_categorical_accuracy: 0.9154 - val_loss: 0.2958\n",
      "Epoch 97/150\n",
      "\u001b[1m469/469\u001b[0m \u001b[32m━━━━━━━━━━━━━━━━━━━━\u001b[0m\u001b[37m\u001b[0m \u001b[1m0s\u001b[0m 725us/step - categorical_accuracy: 0.9101 - loss: 0.3096 - val_categorical_accuracy: 0.9158 - val_loss: 0.2959\n",
      "Epoch 98/150\n",
      "\u001b[1m469/469\u001b[0m \u001b[32m━━━━━━━━━━━━━━━━━━━━\u001b[0m\u001b[37m\u001b[0m \u001b[1m0s\u001b[0m 711us/step - categorical_accuracy: 0.9104 - loss: 0.3061 - val_categorical_accuracy: 0.9154 - val_loss: 0.2957\n",
      "Epoch 99/150\n",
      "\u001b[1m469/469\u001b[0m \u001b[32m━━━━━━━━━━━━━━━━━━━━\u001b[0m\u001b[37m\u001b[0m \u001b[1m0s\u001b[0m 714us/step - categorical_accuracy: 0.9109 - loss: 0.3054 - val_categorical_accuracy: 0.9145 - val_loss: 0.2961\n",
      "Epoch 100/150\n",
      "\u001b[1m469/469\u001b[0m \u001b[32m━━━━━━━━━━━━━━━━━━━━\u001b[0m\u001b[37m\u001b[0m \u001b[1m0s\u001b[0m 738us/step - categorical_accuracy: 0.9097 - loss: 0.3041 - val_categorical_accuracy: 0.9160 - val_loss: 0.2960\n",
      "Epoch 101/150\n",
      "\u001b[1m469/469\u001b[0m \u001b[32m━━━━━━━━━━━━━━━━━━━━\u001b[0m\u001b[37m\u001b[0m \u001b[1m0s\u001b[0m 710us/step - categorical_accuracy: 0.9093 - loss: 0.3055 - val_categorical_accuracy: 0.9151 - val_loss: 0.2945\n",
      "Epoch 102/150\n",
      "\u001b[1m469/469\u001b[0m \u001b[32m━━━━━━━━━━━━━━━━━━━━\u001b[0m\u001b[37m\u001b[0m \u001b[1m0s\u001b[0m 715us/step - categorical_accuracy: 0.9085 - loss: 0.3056 - val_categorical_accuracy: 0.9166 - val_loss: 0.2941\n",
      "Epoch 103/150\n",
      "\u001b[1m469/469\u001b[0m \u001b[32m━━━━━━━━━━━━━━━━━━━━\u001b[0m\u001b[37m\u001b[0m \u001b[1m0s\u001b[0m 708us/step - categorical_accuracy: 0.9098 - loss: 0.3073 - val_categorical_accuracy: 0.9143 - val_loss: 0.2956\n",
      "Epoch 104/150\n",
      "\u001b[1m469/469\u001b[0m \u001b[32m━━━━━━━━━━━━━━━━━━━━\u001b[0m\u001b[37m\u001b[0m \u001b[1m0s\u001b[0m 714us/step - categorical_accuracy: 0.9092 - loss: 0.3063 - val_categorical_accuracy: 0.9166 - val_loss: 0.2932\n",
      "Epoch 105/150\n",
      "\u001b[1m469/469\u001b[0m \u001b[32m━━━━━━━━━━━━━━━━━━━━\u001b[0m\u001b[37m\u001b[0m \u001b[1m0s\u001b[0m 716us/step - categorical_accuracy: 0.9102 - loss: 0.3067 - val_categorical_accuracy: 0.9160 - val_loss: 0.2930\n",
      "Epoch 106/150\n",
      "\u001b[1m469/469\u001b[0m \u001b[32m━━━━━━━━━━━━━━━━━━━━\u001b[0m\u001b[37m\u001b[0m \u001b[1m0s\u001b[0m 717us/step - categorical_accuracy: 0.9099 - loss: 0.3027 - val_categorical_accuracy: 0.9142 - val_loss: 0.2943\n",
      "Epoch 107/150\n",
      "\u001b[1m469/469\u001b[0m \u001b[32m━━━━━━━━━━━━━━━━━━━━\u001b[0m\u001b[37m\u001b[0m \u001b[1m0s\u001b[0m 701us/step - categorical_accuracy: 0.9095 - loss: 0.3045 - val_categorical_accuracy: 0.9152 - val_loss: 0.2933\n",
      "Epoch 108/150\n",
      "\u001b[1m469/469\u001b[0m \u001b[32m━━━━━━━━━━━━━━━━━━━━\u001b[0m\u001b[37m\u001b[0m \u001b[1m0s\u001b[0m 704us/step - categorical_accuracy: 0.9092 - loss: 0.3057 - val_categorical_accuracy: 0.9163 - val_loss: 0.2923\n",
      "Epoch 109/150\n",
      "\u001b[1m469/469\u001b[0m \u001b[32m━━━━━━━━━━━━━━━━━━━━\u001b[0m\u001b[37m\u001b[0m \u001b[1m0s\u001b[0m 712us/step - categorical_accuracy: 0.9115 - loss: 0.3022 - val_categorical_accuracy: 0.9159 - val_loss: 0.2929\n",
      "Epoch 110/150\n",
      "\u001b[1m469/469\u001b[0m \u001b[32m━━━━━━━━━━━━━━━━━━━━\u001b[0m\u001b[37m\u001b[0m \u001b[1m0s\u001b[0m 727us/step - categorical_accuracy: 0.9097 - loss: 0.3087 - val_categorical_accuracy: 0.9157 - val_loss: 0.2927\n",
      "Epoch 111/150\n",
      "\u001b[1m469/469\u001b[0m \u001b[32m━━━━━━━━━━━━━━━━━━━━\u001b[0m\u001b[37m\u001b[0m \u001b[1m0s\u001b[0m 757us/step - categorical_accuracy: 0.9103 - loss: 0.3055 - val_categorical_accuracy: 0.9153 - val_loss: 0.2930\n",
      "Epoch 112/150\n",
      "\u001b[1m469/469\u001b[0m \u001b[32m━━━━━━━━━━━━━━━━━━━━\u001b[0m\u001b[37m\u001b[0m \u001b[1m0s\u001b[0m 707us/step - categorical_accuracy: 0.9119 - loss: 0.3023 - val_categorical_accuracy: 0.9159 - val_loss: 0.2920\n",
      "Epoch 113/150\n",
      "\u001b[1m469/469\u001b[0m \u001b[32m━━━━━━━━━━━━━━━━━━━━\u001b[0m\u001b[37m\u001b[0m \u001b[1m0s\u001b[0m 714us/step - categorical_accuracy: 0.9102 - loss: 0.3079 - val_categorical_accuracy: 0.9164 - val_loss: 0.2919\n",
      "Epoch 114/150\n",
      "\u001b[1m469/469\u001b[0m \u001b[32m━━━━━━━━━━━━━━━━━━━━\u001b[0m\u001b[37m\u001b[0m \u001b[1m0s\u001b[0m 719us/step - categorical_accuracy: 0.9106 - loss: 0.3020 - val_categorical_accuracy: 0.9165 - val_loss: 0.2915\n",
      "Epoch 115/150\n",
      "\u001b[1m469/469\u001b[0m \u001b[32m━━━━━━━━━━━━━━━━━━━━\u001b[0m\u001b[37m\u001b[0m \u001b[1m0s\u001b[0m 707us/step - categorical_accuracy: 0.9093 - loss: 0.3046 - val_categorical_accuracy: 0.9157 - val_loss: 0.2919\n",
      "Epoch 116/150\n",
      "\u001b[1m469/469\u001b[0m \u001b[32m━━━━━━━━━━━━━━━━━━━━\u001b[0m\u001b[37m\u001b[0m \u001b[1m0s\u001b[0m 756us/step - categorical_accuracy: 0.9120 - loss: 0.2995 - val_categorical_accuracy: 0.9146 - val_loss: 0.2912\n",
      "Epoch 117/150\n",
      "\u001b[1m469/469\u001b[0m \u001b[32m━━━━━━━━━━━━━━━━━━━━\u001b[0m\u001b[37m\u001b[0m \u001b[1m0s\u001b[0m 730us/step - categorical_accuracy: 0.9098 - loss: 0.3027 - val_categorical_accuracy: 0.9165 - val_loss: 0.2907\n",
      "Epoch 118/150\n",
      "\u001b[1m469/469\u001b[0m \u001b[32m━━━━━━━━━━━━━━━━━━━━\u001b[0m\u001b[37m\u001b[0m \u001b[1m0s\u001b[0m 788us/step - categorical_accuracy: 0.9135 - loss: 0.2955 - val_categorical_accuracy: 0.9160 - val_loss: 0.2918\n",
      "Epoch 119/150\n",
      "\u001b[1m469/469\u001b[0m \u001b[32m━━━━━━━━━━━━━━━━━━━━\u001b[0m\u001b[37m\u001b[0m \u001b[1m0s\u001b[0m 730us/step - categorical_accuracy: 0.9105 - loss: 0.3037 - val_categorical_accuracy: 0.9162 - val_loss: 0.2902\n",
      "Epoch 120/150\n",
      "\u001b[1m469/469\u001b[0m \u001b[32m━━━━━━━━━━━━━━━━━━━━\u001b[0m\u001b[37m\u001b[0m \u001b[1m0s\u001b[0m 808us/step - categorical_accuracy: 0.9108 - loss: 0.2986 - val_categorical_accuracy: 0.9160 - val_loss: 0.2900\n",
      "Epoch 121/150\n",
      "\u001b[1m469/469\u001b[0m \u001b[32m━━━━━━━━━━━━━━━━━━━━\u001b[0m\u001b[37m\u001b[0m \u001b[1m0s\u001b[0m 748us/step - categorical_accuracy: 0.9111 - loss: 0.3003 - val_categorical_accuracy: 0.9164 - val_loss: 0.2914\n",
      "Epoch 122/150\n",
      "\u001b[1m469/469\u001b[0m \u001b[32m━━━━━━━━━━━━━━━━━━━━\u001b[0m\u001b[37m\u001b[0m \u001b[1m0s\u001b[0m 758us/step - categorical_accuracy: 0.9110 - loss: 0.2984 - val_categorical_accuracy: 0.9165 - val_loss: 0.2903\n",
      "Epoch 123/150\n",
      "\u001b[1m469/469\u001b[0m \u001b[32m━━━━━━━━━━━━━━━━━━━━\u001b[0m\u001b[37m\u001b[0m \u001b[1m0s\u001b[0m 851us/step - categorical_accuracy: 0.9130 - loss: 0.2970 - val_categorical_accuracy: 0.9154 - val_loss: 0.2912\n",
      "Epoch 124/150\n",
      "\u001b[1m469/469\u001b[0m \u001b[32m━━━━━━━━━━━━━━━━━━━━\u001b[0m\u001b[37m\u001b[0m \u001b[1m0s\u001b[0m 741us/step - categorical_accuracy: 0.9117 - loss: 0.2992 - val_categorical_accuracy: 0.9167 - val_loss: 0.2897\n",
      "Epoch 125/150\n",
      "\u001b[1m469/469\u001b[0m \u001b[32m━━━━━━━━━━━━━━━━━━━━\u001b[0m\u001b[37m\u001b[0m \u001b[1m0s\u001b[0m 721us/step - categorical_accuracy: 0.9113 - loss: 0.3018 - val_categorical_accuracy: 0.9169 - val_loss: 0.2897\n",
      "Epoch 126/150\n",
      "\u001b[1m469/469\u001b[0m \u001b[32m━━━━━━━━━━━━━━━━━━━━\u001b[0m\u001b[37m\u001b[0m \u001b[1m0s\u001b[0m 801us/step - categorical_accuracy: 0.9110 - loss: 0.2998 - val_categorical_accuracy: 0.9170 - val_loss: 0.2894\n",
      "Epoch 127/150\n",
      "\u001b[1m469/469\u001b[0m \u001b[32m━━━━━━━━━━━━━━━━━━━━\u001b[0m\u001b[37m\u001b[0m \u001b[1m0s\u001b[0m 728us/step - categorical_accuracy: 0.9117 - loss: 0.2985 - val_categorical_accuracy: 0.9164 - val_loss: 0.2897\n",
      "Epoch 128/150\n",
      "\u001b[1m469/469\u001b[0m \u001b[32m━━━━━━━━━━━━━━━━━━━━\u001b[0m\u001b[37m\u001b[0m \u001b[1m0s\u001b[0m 707us/step - categorical_accuracy: 0.9134 - loss: 0.2935 - val_categorical_accuracy: 0.9172 - val_loss: 0.2885\n",
      "Epoch 129/150\n",
      "\u001b[1m469/469\u001b[0m \u001b[32m━━━━━━━━━━━━━━━━━━━━\u001b[0m\u001b[37m\u001b[0m \u001b[1m0s\u001b[0m 707us/step - categorical_accuracy: 0.9113 - loss: 0.2989 - val_categorical_accuracy: 0.9165 - val_loss: 0.2892\n",
      "Epoch 130/150\n",
      "\u001b[1m469/469\u001b[0m \u001b[32m━━━━━━━━━━━━━━━━━━━━\u001b[0m\u001b[37m\u001b[0m \u001b[1m0s\u001b[0m 764us/step - categorical_accuracy: 0.9104 - loss: 0.3006 - val_categorical_accuracy: 0.9168 - val_loss: 0.2891\n",
      "Epoch 131/150\n",
      "\u001b[1m469/469\u001b[0m \u001b[32m━━━━━━━━━━━━━━━━━━━━\u001b[0m\u001b[37m\u001b[0m \u001b[1m0s\u001b[0m 756us/step - categorical_accuracy: 0.9125 - loss: 0.2954 - val_categorical_accuracy: 0.9166 - val_loss: 0.2890\n",
      "Epoch 132/150\n",
      "\u001b[1m469/469\u001b[0m \u001b[32m━━━━━━━━━━━━━━━━━━━━\u001b[0m\u001b[37m\u001b[0m \u001b[1m0s\u001b[0m 831us/step - categorical_accuracy: 0.9106 - loss: 0.2975 - val_categorical_accuracy: 0.9145 - val_loss: 0.2902\n",
      "Epoch 133/150\n",
      "\u001b[1m469/469\u001b[0m \u001b[32m━━━━━━━━━━━━━━━━━━━━\u001b[0m\u001b[37m\u001b[0m \u001b[1m0s\u001b[0m 740us/step - categorical_accuracy: 0.9111 - loss: 0.3018 - val_categorical_accuracy: 0.9160 - val_loss: 0.2888\n",
      "Epoch 134/150\n",
      "\u001b[1m469/469\u001b[0m \u001b[32m━━━━━━━━━━━━━━━━━━━━\u001b[0m\u001b[37m\u001b[0m \u001b[1m0s\u001b[0m 726us/step - categorical_accuracy: 0.9116 - loss: 0.2992 - val_categorical_accuracy: 0.9166 - val_loss: 0.2892\n",
      "Epoch 135/150\n",
      "\u001b[1m469/469\u001b[0m \u001b[32m━━━━━━━━━━━━━━━━━━━━\u001b[0m\u001b[37m\u001b[0m \u001b[1m0s\u001b[0m 735us/step - categorical_accuracy: 0.9113 - loss: 0.3000 - val_categorical_accuracy: 0.9150 - val_loss: 0.2883\n",
      "Epoch 136/150\n",
      "\u001b[1m469/469\u001b[0m \u001b[32m━━━━━━━━━━━━━━━━━━━━\u001b[0m\u001b[37m\u001b[0m \u001b[1m0s\u001b[0m 804us/step - categorical_accuracy: 0.9110 - loss: 0.2993 - val_categorical_accuracy: 0.9168 - val_loss: 0.2883\n",
      "Epoch 137/150\n",
      "\u001b[1m469/469\u001b[0m \u001b[32m━━━━━━━━━━━━━━━━━━━━\u001b[0m\u001b[37m\u001b[0m \u001b[1m0s\u001b[0m 824us/step - categorical_accuracy: 0.9111 - loss: 0.2982 - val_categorical_accuracy: 0.9165 - val_loss: 0.2885\n",
      "Epoch 138/150\n",
      "\u001b[1m469/469\u001b[0m \u001b[32m━━━━━━━━━━━━━━━━━━━━\u001b[0m\u001b[37m\u001b[0m \u001b[1m0s\u001b[0m 830us/step - categorical_accuracy: 0.9120 - loss: 0.2983 - val_categorical_accuracy: 0.9155 - val_loss: 0.2902\n",
      "Epoch 139/150\n",
      "\u001b[1m469/469\u001b[0m \u001b[32m━━━━━━━━━━━━━━━━━━━━\u001b[0m\u001b[37m\u001b[0m \u001b[1m0s\u001b[0m 799us/step - categorical_accuracy: 0.9119 - loss: 0.2986 - val_categorical_accuracy: 0.9165 - val_loss: 0.2877\n",
      "Epoch 140/150\n",
      "\u001b[1m469/469\u001b[0m \u001b[32m━━━━━━━━━━━━━━━━━━━━\u001b[0m\u001b[37m\u001b[0m \u001b[1m0s\u001b[0m 840us/step - categorical_accuracy: 0.9133 - loss: 0.2948 - val_categorical_accuracy: 0.9173 - val_loss: 0.2877\n",
      "Epoch 141/150\n",
      "\u001b[1m469/469\u001b[0m \u001b[32m━━━━━━━━━━━━━━━━━━━━\u001b[0m\u001b[37m\u001b[0m \u001b[1m0s\u001b[0m 837us/step - categorical_accuracy: 0.9133 - loss: 0.2925 - val_categorical_accuracy: 0.9157 - val_loss: 0.2876\n",
      "Epoch 142/150\n",
      "\u001b[1m469/469\u001b[0m \u001b[32m━━━━━━━━━━━━━━━━━━━━\u001b[0m\u001b[37m\u001b[0m \u001b[1m0s\u001b[0m 833us/step - categorical_accuracy: 0.9123 - loss: 0.2967 - val_categorical_accuracy: 0.9164 - val_loss: 0.2868\n",
      "Epoch 143/150\n",
      "\u001b[1m469/469\u001b[0m \u001b[32m━━━━━━━━━━━━━━━━━━━━\u001b[0m\u001b[37m\u001b[0m \u001b[1m0s\u001b[0m 810us/step - categorical_accuracy: 0.9111 - loss: 0.2955 - val_categorical_accuracy: 0.9169 - val_loss: 0.2865\n",
      "Epoch 144/150\n",
      "\u001b[1m469/469\u001b[0m \u001b[32m━━━━━━━━━━━━━━━━━━━━\u001b[0m\u001b[37m\u001b[0m \u001b[1m0s\u001b[0m 987us/step - categorical_accuracy: 0.9126 - loss: 0.2972 - val_categorical_accuracy: 0.9163 - val_loss: 0.2884\n",
      "Epoch 145/150\n",
      "\u001b[1m469/469\u001b[0m \u001b[32m━━━━━━━━━━━━━━━━━━━━\u001b[0m\u001b[37m\u001b[0m \u001b[1m0s\u001b[0m 930us/step - categorical_accuracy: 0.9114 - loss: 0.2977 - val_categorical_accuracy: 0.9168 - val_loss: 0.2861\n",
      "Epoch 146/150\n",
      "\u001b[1m469/469\u001b[0m \u001b[32m━━━━━━━━━━━━━━━━━━━━\u001b[0m\u001b[37m\u001b[0m \u001b[1m0s\u001b[0m 894us/step - categorical_accuracy: 0.9122 - loss: 0.2956 - val_categorical_accuracy: 0.9164 - val_loss: 0.2863\n",
      "Epoch 147/150\n",
      "\u001b[1m469/469\u001b[0m \u001b[32m━━━━━━━━━━━━━━━━━━━━\u001b[0m\u001b[37m\u001b[0m \u001b[1m0s\u001b[0m 824us/step - categorical_accuracy: 0.9118 - loss: 0.2954 - val_categorical_accuracy: 0.9166 - val_loss: 0.2865\n",
      "Epoch 148/150\n",
      "\u001b[1m469/469\u001b[0m \u001b[32m━━━━━━━━━━━━━━━━━━━━\u001b[0m\u001b[37m\u001b[0m \u001b[1m0s\u001b[0m 789us/step - categorical_accuracy: 0.9132 - loss: 0.2936 - val_categorical_accuracy: 0.9162 - val_loss: 0.2872\n",
      "Epoch 149/150\n",
      "\u001b[1m469/469\u001b[0m \u001b[32m━━━━━━━━━━━━━━━━━━━━\u001b[0m\u001b[37m\u001b[0m \u001b[1m0s\u001b[0m 709us/step - categorical_accuracy: 0.9115 - loss: 0.2966 - val_categorical_accuracy: 0.9173 - val_loss: 0.2864\n",
      "Epoch 150/150\n",
      "\u001b[1m469/469\u001b[0m \u001b[32m━━━━━━━━━━━━━━━━━━━━\u001b[0m\u001b[37m\u001b[0m \u001b[1m0s\u001b[0m 717us/step - categorical_accuracy: 0.9116 - loss: 0.2956 - val_categorical_accuracy: 0.9172 - val_loss: 0.2871\n"
     ]
    }
   ],
   "source": [
    "history = Softmax_Classifer_model.fit(train_images, train_labels, epochs=150, batch_size=128, validation_data=(test_images, test_labels))"
   ]
  },
  {
   "cell_type": "code",
   "execution_count": 12,
   "metadata": {},
   "outputs": [
    {
     "name": "stderr",
     "output_type": "stream",
     "text": [
      "WARNING:absl:You are saving your model as an HDF5 file via `model.save()` or `keras.saving.save_model(model)`. This file format is considered legacy. We recommend using instead the native Keras format, e.g. `model.save('my_model.keras')` or `keras.saving.save_model(model, 'my_model.keras')`. \n"
     ]
    }
   ],
   "source": [
    "Softmax_Classifer_model.save('models/SAE2_softmax.h5')"
   ]
  },
  {
   "cell_type": "code",
   "execution_count": 13,
   "metadata": {},
   "outputs": [
    {
     "data": {
      "image/png": "[encoded data removed]",
      "text/plain": [
       "<Figure size 640x480 with 1 Axes>"
      ]
     },
     "metadata": {},
     "output_type": "display_data"
    }
   ],
   "source": [
    "import matplotlib.pyplot as plt\n",
    "\n",
    "\n",
    "plt.plot(history.history['loss'])\n",
    "plt.plot(history.history['val_loss'])\n",
    "plt.title('SAE2 softmax loss')\n",
    "plt.ylabel('loss')\n",
    "plt.xlabel('epoch')\n",
    "plt.legend(['train', 'test'], loc='upper right')\n",
    "plt.show()"
   ]
  }
 ],
 "metadata": {
  "kernelspec": {
   "display_name": "Python 3",
   "language": "python",
   "name": "python3"
  },
  "language_info": {
   "codemirror_mode": {
    "name": "ipython",
    "version": 3
   },
   "file_extension": ".py",
   "mimetype": "text/x-python",
   "name": "python",
   "nbconvert_exporter": "python",
   "pygments_lexer": "ipython3",
   "version": "3.10.8"
  }
 },
 "nbformat": 4,
 "nbformat_minor": 2
}
